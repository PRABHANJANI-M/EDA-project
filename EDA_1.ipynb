{
  "cells": [
    {
      "cell_type": "markdown",
      "metadata": {
        "id": "CYzHDEWbA-ke"
      },
      "source": [
        "Part 1 – Basic Data Understanding (Pandas)"
      ]
    },
    {
      "cell_type": "markdown",
      "metadata": {
        "id": "hCMsqF1IBiNK"
      },
      "source": [
        "Load the dataset and display the first 10 rows."
      ]
    },
    {
      "cell_type": "code",
      "execution_count": 1,
      "metadata": {
        "colab": {
          "base_uri": "https://localhost:8080/",
          "height": 362
        },
        "id": "CGL7Dnk2AiaA",
        "outputId": "bda48c12-13f3-4f7d-e9e2-8145aa1b19fd"
      },
      "outputs": [
        {
          "data": {
            "text/html": [
              "<div>\n",
              "<style scoped>\n",
              "    .dataframe tbody tr th:only-of-type {\n",
              "        vertical-align: middle;\n",
              "    }\n",
              "\n",
              "    .dataframe tbody tr th {\n",
              "        vertical-align: top;\n",
              "    }\n",
              "\n",
              "    .dataframe thead th {\n",
              "        text-align: right;\n",
              "    }\n",
              "</style>\n",
              "<table border=\"1\" class=\"dataframe\">\n",
              "  <thead>\n",
              "    <tr style=\"text-align: right;\">\n",
              "      <th></th>\n",
              "      <th>Name</th>\n",
              "      <th>Author</th>\n",
              "      <th>User Rating</th>\n",
              "      <th>Reviews</th>\n",
              "      <th>Price</th>\n",
              "      <th>Year</th>\n",
              "      <th>Genre</th>\n",
              "    </tr>\n",
              "  </thead>\n",
              "  <tbody>\n",
              "    <tr>\n",
              "      <th>0</th>\n",
              "      <td>10-Day Green Smoothie Cleanse</td>\n",
              "      <td>JJ Smith</td>\n",
              "      <td>4.7</td>\n",
              "      <td>17350</td>\n",
              "      <td>8</td>\n",
              "      <td>2016</td>\n",
              "      <td>Non Fiction</td>\n",
              "    </tr>\n",
              "    <tr>\n",
              "      <th>1</th>\n",
              "      <td>11/22/63: A Novel</td>\n",
              "      <td>Stephen King</td>\n",
              "      <td>4.6</td>\n",
              "      <td>2052</td>\n",
              "      <td>22</td>\n",
              "      <td>2011</td>\n",
              "      <td>Fiction</td>\n",
              "    </tr>\n",
              "    <tr>\n",
              "      <th>2</th>\n",
              "      <td>12 Rules for Life: An Antidote to Chaos</td>\n",
              "      <td>Jordan B. Peterson</td>\n",
              "      <td>4.7</td>\n",
              "      <td>18979</td>\n",
              "      <td>15</td>\n",
              "      <td>2018</td>\n",
              "      <td>Non Fiction</td>\n",
              "    </tr>\n",
              "    <tr>\n",
              "      <th>3</th>\n",
              "      <td>1984 (Signet Classics)</td>\n",
              "      <td>George Orwell</td>\n",
              "      <td>4.7</td>\n",
              "      <td>21424</td>\n",
              "      <td>6</td>\n",
              "      <td>2017</td>\n",
              "      <td>Fiction</td>\n",
              "    </tr>\n",
              "    <tr>\n",
              "      <th>4</th>\n",
              "      <td>5,000 Awesome Facts (About Everything!) (Natio...</td>\n",
              "      <td>National Geographic Kids</td>\n",
              "      <td>4.8</td>\n",
              "      <td>7665</td>\n",
              "      <td>12</td>\n",
              "      <td>2019</td>\n",
              "      <td>Non Fiction</td>\n",
              "    </tr>\n",
              "    <tr>\n",
              "      <th>5</th>\n",
              "      <td>A Dance with Dragons (A Song of Ice and Fire)</td>\n",
              "      <td>George R. R. Martin</td>\n",
              "      <td>4.4</td>\n",
              "      <td>12643</td>\n",
              "      <td>11</td>\n",
              "      <td>2011</td>\n",
              "      <td>Fiction</td>\n",
              "    </tr>\n",
              "    <tr>\n",
              "      <th>6</th>\n",
              "      <td>A Game of Thrones / A Clash of Kings / A Storm...</td>\n",
              "      <td>George R. R. Martin</td>\n",
              "      <td>4.7</td>\n",
              "      <td>19735</td>\n",
              "      <td>30</td>\n",
              "      <td>2014</td>\n",
              "      <td>Fiction</td>\n",
              "    </tr>\n",
              "    <tr>\n",
              "      <th>7</th>\n",
              "      <td>A Gentleman in Moscow: A Novel</td>\n",
              "      <td>Amor Towles</td>\n",
              "      <td>4.7</td>\n",
              "      <td>19699</td>\n",
              "      <td>15</td>\n",
              "      <td>2017</td>\n",
              "      <td>Fiction</td>\n",
              "    </tr>\n",
              "    <tr>\n",
              "      <th>8</th>\n",
              "      <td>A Higher Loyalty: Truth, Lies, and Leadership</td>\n",
              "      <td>James Comey</td>\n",
              "      <td>4.7</td>\n",
              "      <td>5983</td>\n",
              "      <td>3</td>\n",
              "      <td>2018</td>\n",
              "      <td>Non Fiction</td>\n",
              "    </tr>\n",
              "    <tr>\n",
              "      <th>9</th>\n",
              "      <td>A Man Called Ove: A Novel</td>\n",
              "      <td>Fredrik Backman</td>\n",
              "      <td>4.6</td>\n",
              "      <td>23848</td>\n",
              "      <td>8</td>\n",
              "      <td>2016</td>\n",
              "      <td>Fiction</td>\n",
              "    </tr>\n",
              "  </tbody>\n",
              "</table>\n",
              "</div>"
            ],
            "text/plain": [
              "                                                Name  \\\n",
              "0                      10-Day Green Smoothie Cleanse   \n",
              "1                                  11/22/63: A Novel   \n",
              "2            12 Rules for Life: An Antidote to Chaos   \n",
              "3                             1984 (Signet Classics)   \n",
              "4  5,000 Awesome Facts (About Everything!) (Natio...   \n",
              "5      A Dance with Dragons (A Song of Ice and Fire)   \n",
              "6  A Game of Thrones / A Clash of Kings / A Storm...   \n",
              "7                     A Gentleman in Moscow: A Novel   \n",
              "8      A Higher Loyalty: Truth, Lies, and Leadership   \n",
              "9                          A Man Called Ove: A Novel   \n",
              "\n",
              "                     Author  User Rating  Reviews  Price  Year        Genre  \n",
              "0                  JJ Smith          4.7    17350      8  2016  Non Fiction  \n",
              "1              Stephen King          4.6     2052     22  2011      Fiction  \n",
              "2        Jordan B. Peterson          4.7    18979     15  2018  Non Fiction  \n",
              "3             George Orwell          4.7    21424      6  2017      Fiction  \n",
              "4  National Geographic Kids          4.8     7665     12  2019  Non Fiction  \n",
              "5       George R. R. Martin          4.4    12643     11  2011      Fiction  \n",
              "6       George R. R. Martin          4.7    19735     30  2014      Fiction  \n",
              "7               Amor Towles          4.7    19699     15  2017      Fiction  \n",
              "8               James Comey          4.7     5983      3  2018  Non Fiction  \n",
              "9           Fredrik Backman          4.6    23848      8  2016      Fiction  "
            ]
          },
          "execution_count": 1,
          "metadata": {},
          "output_type": "execute_result"
        }
      ],
      "source": [
        "import pandas as pd\n",
        "df=pd.read_csv('bestsellers with categories.csv')\n",
        "df.head(10)"
      ]
    },
    {
      "cell_type": "code",
      "execution_count": 2,
      "metadata": {
        "colab": {
          "base_uri": "https://localhost:8080/"
        },
        "id": "8Jd-T1syBgqZ",
        "outputId": "20e0ac88-451d-46f7-a95a-e34755c495c4"
      },
      "outputs": [
        {
          "data": {
            "text/plain": [
              "(550, 7)"
            ]
          },
          "execution_count": 2,
          "metadata": {},
          "output_type": "execute_result"
        }
      ],
      "source": [
        "df.shape"
      ]
    },
    {
      "cell_type": "code",
      "execution_count": 3,
      "metadata": {
        "colab": {
          "base_uri": "https://localhost:8080/"
        },
        "id": "JTxIlneRBzyc",
        "outputId": "82ad180e-211a-41eb-e730-da8c0362ea5d"
      },
      "outputs": [
        {
          "data": {
            "text/plain": [
              "Index(['Name', 'Author', 'User Rating', 'Reviews', 'Price', 'Year', 'Genre'], dtype='object')"
            ]
          },
          "execution_count": 3,
          "metadata": {},
          "output_type": "execute_result"
        }
      ],
      "source": [
        "df.columns"
      ]
    },
    {
      "cell_type": "code",
      "execution_count": 4,
      "metadata": {
        "colab": {
          "base_uri": "https://localhost:8080/",
          "height": 303
        },
        "id": "St6MIt90Bq0_",
        "outputId": "6205e0e9-085f-4523-cdc4-9108623b027c"
      },
      "outputs": [
        {
          "data": {
            "text/plain": [
              "Name            object\n",
              "Author          object\n",
              "User Rating    float64\n",
              "Reviews          int64\n",
              "Price            int64\n",
              "Year             int64\n",
              "Genre           object\n",
              "dtype: object"
            ]
          },
          "execution_count": 4,
          "metadata": {},
          "output_type": "execute_result"
        }
      ],
      "source": [
        "df.dtypes"
      ]
    },
    {
      "cell_type": "markdown",
      "metadata": {
        "id": "R-NKWCNxCHCu"
      },
      "source": [
        "Check for missing values and duplicates."
      ]
    },
    {
      "cell_type": "code",
      "execution_count": 5,
      "metadata": {
        "colab": {
          "base_uri": "https://localhost:8080/"
        },
        "id": "ioXXMe0pCJPC",
        "outputId": "6b8dae03-e30c-4a92-9c1c-99c90b8151f6"
      },
      "outputs": [
        {
          "name": "stdout",
          "output_type": "stream",
          "text": [
            "Name           0\n",
            "Author         0\n",
            "User Rating    0\n",
            "Reviews        0\n",
            "Price          0\n",
            "Year           0\n",
            "Genre          0\n",
            "dtype: int64\n"
          ]
        }
      ],
      "source": [
        "missing=df.isnull().sum()\n",
        "print(missing)\n"
      ]
    },
    {
      "cell_type": "code",
      "execution_count": 6,
      "metadata": {
        "colab": {
          "base_uri": "https://localhost:8080/"
        },
        "id": "ptq6h2GjC6bH",
        "outputId": "d21740ed-7b96-4293-9f46-649e2cc662e9"
      },
      "outputs": [
        {
          "name": "stdout",
          "output_type": "stream",
          "text": [
            "0\n"
          ]
        }
      ],
      "source": [
        "duplicates=df.duplicated().sum()\n",
        "print(duplicates)"
      ]
    },
    {
      "cell_type": "markdown",
      "metadata": {
        "id": "-ARkNLuCDpyG"
      },
      "source": [
        "Use .describe() for numeric columns."
      ]
    },
    {
      "cell_type": "code",
      "execution_count": 7,
      "metadata": {
        "colab": {
          "base_uri": "https://localhost:8080/",
          "height": 300
        },
        "id": "7AllqIR9C_-h",
        "outputId": "833167fd-542d-41df-c4d0-63a4808e8609"
      },
      "outputs": [
        {
          "data": {
            "text/html": [
              "<div>\n",
              "<style scoped>\n",
              "    .dataframe tbody tr th:only-of-type {\n",
              "        vertical-align: middle;\n",
              "    }\n",
              "\n",
              "    .dataframe tbody tr th {\n",
              "        vertical-align: top;\n",
              "    }\n",
              "\n",
              "    .dataframe thead th {\n",
              "        text-align: right;\n",
              "    }\n",
              "</style>\n",
              "<table border=\"1\" class=\"dataframe\">\n",
              "  <thead>\n",
              "    <tr style=\"text-align: right;\">\n",
              "      <th></th>\n",
              "      <th>User Rating</th>\n",
              "      <th>Reviews</th>\n",
              "      <th>Price</th>\n",
              "      <th>Year</th>\n",
              "    </tr>\n",
              "  </thead>\n",
              "  <tbody>\n",
              "    <tr>\n",
              "      <th>count</th>\n",
              "      <td>550.000000</td>\n",
              "      <td>550.000000</td>\n",
              "      <td>550.000000</td>\n",
              "      <td>550.000000</td>\n",
              "    </tr>\n",
              "    <tr>\n",
              "      <th>mean</th>\n",
              "      <td>4.618364</td>\n",
              "      <td>11953.281818</td>\n",
              "      <td>13.100000</td>\n",
              "      <td>2014.000000</td>\n",
              "    </tr>\n",
              "    <tr>\n",
              "      <th>std</th>\n",
              "      <td>0.226980</td>\n",
              "      <td>11731.132017</td>\n",
              "      <td>10.842262</td>\n",
              "      <td>3.165156</td>\n",
              "    </tr>\n",
              "    <tr>\n",
              "      <th>min</th>\n",
              "      <td>3.300000</td>\n",
              "      <td>37.000000</td>\n",
              "      <td>0.000000</td>\n",
              "      <td>2009.000000</td>\n",
              "    </tr>\n",
              "    <tr>\n",
              "      <th>25%</th>\n",
              "      <td>4.500000</td>\n",
              "      <td>4058.000000</td>\n",
              "      <td>7.000000</td>\n",
              "      <td>2011.000000</td>\n",
              "    </tr>\n",
              "    <tr>\n",
              "      <th>50%</th>\n",
              "      <td>4.700000</td>\n",
              "      <td>8580.000000</td>\n",
              "      <td>11.000000</td>\n",
              "      <td>2014.000000</td>\n",
              "    </tr>\n",
              "    <tr>\n",
              "      <th>75%</th>\n",
              "      <td>4.800000</td>\n",
              "      <td>17253.250000</td>\n",
              "      <td>16.000000</td>\n",
              "      <td>2017.000000</td>\n",
              "    </tr>\n",
              "    <tr>\n",
              "      <th>max</th>\n",
              "      <td>4.900000</td>\n",
              "      <td>87841.000000</td>\n",
              "      <td>105.000000</td>\n",
              "      <td>2019.000000</td>\n",
              "    </tr>\n",
              "  </tbody>\n",
              "</table>\n",
              "</div>"
            ],
            "text/plain": [
              "       User Rating       Reviews       Price         Year\n",
              "count   550.000000    550.000000  550.000000   550.000000\n",
              "mean      4.618364  11953.281818   13.100000  2014.000000\n",
              "std       0.226980  11731.132017   10.842262     3.165156\n",
              "min       3.300000     37.000000    0.000000  2009.000000\n",
              "25%       4.500000   4058.000000    7.000000  2011.000000\n",
              "50%       4.700000   8580.000000   11.000000  2014.000000\n",
              "75%       4.800000  17253.250000   16.000000  2017.000000\n",
              "max       4.900000  87841.000000  105.000000  2019.000000"
            ]
          },
          "execution_count": 7,
          "metadata": {},
          "output_type": "execute_result"
        }
      ],
      "source": [
        "df.describe()"
      ]
    },
    {
      "cell_type": "markdown",
      "metadata": {
        "id": "vL2i56hiDscJ"
      },
      "source": [
        "Get the number of unique authors."
      ]
    },
    {
      "cell_type": "code",
      "execution_count": 8,
      "metadata": {
        "colab": {
          "base_uri": "https://localhost:8080/",
          "height": 489
        },
        "id": "g4bBlWNhDuTq",
        "outputId": "6e59cf84-a548-4be1-9a55-3837b373ed76"
      },
      "outputs": [
        {
          "data": {
            "text/plain": [
              "Author\n",
              "Jeff Kinney                           12\n",
              "Gary Chapman                          11\n",
              "Rick Riordan                          11\n",
              "Suzanne Collins                       11\n",
              "American Psychological Association    10\n",
              "                                      ..\n",
              "Thomas Piketty                         1\n",
              "The Washington Post                    1\n",
              "Tina Fey                               1\n",
              "W. Cleon Skousen                       1\n",
              "Tucker Carlson                         1\n",
              "Name: count, Length: 248, dtype: int64"
            ]
          },
          "execution_count": 8,
          "metadata": {},
          "output_type": "execute_result"
        }
      ],
      "source": [
        "df.value_counts('Author')"
      ]
    },
    {
      "cell_type": "code",
      "execution_count": 9,
      "metadata": {
        "colab": {
          "base_uri": "https://localhost:8080/"
        },
        "id": "ROxJVakPEGnL",
        "outputId": "07f3f528-e0fb-47c7-a711-ab2f0caf38a2"
      },
      "outputs": [
        {
          "name": "stdout",
          "output_type": "stream",
          "text": [
            "248\n"
          ]
        }
      ],
      "source": [
        "print(df[\"Author\"].nunique())"
      ]
    },
    {
      "cell_type": "markdown",
      "metadata": {
        "id": "gOKG5ZQYEmxq"
      },
      "source": [
        "Find the most common genre."
      ]
    },
    {
      "cell_type": "code",
      "execution_count": 10,
      "metadata": {
        "colab": {
          "base_uri": "https://localhost:8080/",
          "height": 36
        },
        "id": "1vFsbk7zEoyc",
        "outputId": "90ce704b-8a11-42fb-b987-1fb6a3c3e87a"
      },
      "outputs": [
        {
          "data": {
            "text/plain": [
              "'Non Fiction'"
            ]
          },
          "execution_count": 10,
          "metadata": {},
          "output_type": "execute_result"
        }
      ],
      "source": [
        "df[\"Genre\"].value_counts().idxmax()"
      ]
    },
    {
      "cell_type": "markdown",
      "metadata": {
        "id": "Av6-euaWFX1A"
      },
      "source": [
        "Display the book with the highest price.\n"
      ]
    },
    {
      "cell_type": "code",
      "execution_count": 11,
      "metadata": {
        "colab": {
          "base_uri": "https://localhost:8080/"
        },
        "id": "bAQUiMgBFUQl",
        "outputId": "842ce4a8-360e-4f80-8c19-93b06724932c"
      },
      "outputs": [
        {
          "name": "stdout",
          "output_type": "stream",
          "text": [
            "Diagnostic and Statistical Manual of Mental Disorders, 5th Edition: DSM-5\n"
          ]
        }
      ],
      "source": [
        "book_name = df.loc[df[\"Price\"].idxmax(), \"Name\"]\n",
        "print(book_name)"
      ]
    },
    {
      "cell_type": "markdown",
      "metadata": {
        "id": "hmUn9sSRGvDv"
      },
      "source": [
        "Part 2 – EDA (Exploratory Data Analysis)"
      ]
    },
    {
      "cell_type": "markdown",
      "metadata": {
        "id": "7HOE4TS_G3vO"
      },
      "source": [
        "Histogram of User Rating."
      ]
    },
    {
      "cell_type": "code",
      "execution_count": 12,
      "metadata": {
        "colab": {
          "base_uri": "https://localhost:8080/",
          "height": 430
        },
        "id": "mX6-aSuzG1uA",
        "outputId": "5080e248-9cfe-4296-87d5-6c69c8fdd1df"
      },
      "outputs": [
        {
          "data": {
            "image/png": "[encoded data removed]",
            "text/plain": [
              "<Figure size 640x480 with 1 Axes>"
            ]
          },
          "metadata": {},
          "output_type": "display_data"
        }
      ],
      "source": [
        "import matplotlib.pyplot as plt\n",
        "plt.hist(df['User Rating'])\n",
        "plt.show()"
      ]
    },
    {
      "cell_type": "markdown",
      "metadata": {
        "id": "bCEMAIYOw2jJ"
      },
      "source": [
        "Histogram of Price."
      ]
    },
    {
      "cell_type": "code",
      "execution_count": 13,
      "metadata": {
        "colab": {
          "base_uri": "https://localhost:8080/",
          "height": 430
        },
        "id": "I4IjGt0Nw3YQ",
        "outputId": "1e5ec6d5-ecff-4d7a-bbe1-464d6520d51c"
      },
      "outputs": [
        {
          "data": {
            "image/png": "[encoded data removed]",
            "text/plain": [
              "<Figure size 640x480 with 1 Axes>"
            ]
          },
          "metadata": {},
          "output_type": "display_data"
        }
      ],
      "source": [
        "plt.hist(df['Price'])\n",
        "plt.show()"
      ]
    },
    {
      "cell_type": "markdown",
      "metadata": {
        "id": "pUjVkgjY1FHy"
      },
      "source": [
        "Top 10 books with the most reviews."
      ]
    },
    {
      "cell_type": "code",
      "execution_count": 14,
      "metadata": {
        "colab": {
          "base_uri": "https://localhost:8080/"
        },
        "id": "Tw6UF6W1z_GG",
        "outputId": "d968df69-c72a-4d30-831d-d538e700914c"
      },
      "outputs": [
        {
          "name": "stdout",
          "output_type": "stream",
          "text": [
            "                                                  Name                Author  \\\n",
            "40            Brown Bear, Brown Bear, What Do You See?       Bill Martin Jr.   \n",
            "41            Brown Bear, Brown Bear, What Do You See?       Bill Martin Jr.   \n",
            "81   Dog Man and Cat Kid: From the Creator of Capta...            Dav Pilkey   \n",
            "82   Dog Man: A Tale of Two Kitties: From the Creat...            Dav Pilkey   \n",
            "83   Dog Man: Brawl of the Wild: From the Creator o...            Dav Pilkey   \n",
            "84   Dog Man: Brawl of the Wild: From the Creator o...            Dav Pilkey   \n",
            "85   Dog Man: Fetch-22: From the Creator of Captain...            Dav Pilkey   \n",
            "86   Dog Man: For Whom the Ball Rolls: From the Cre...            Dav Pilkey   \n",
            "87   Dog Man: Lord of the Fleas: From the Creator o...            Dav Pilkey   \n",
            "146  Goodnight, Goodnight Construction Site (Hardco...  Sherri Duskey Rinker   \n",
            "\n",
            "     User Rating  Reviews  Price  Year    Genre  \n",
            "40           4.9    14344      5  2017  Fiction  \n",
            "41           4.9    14344      5  2019  Fiction  \n",
            "81           4.9     5062      6  2018  Fiction  \n",
            "82           4.9     4786      8  2017  Fiction  \n",
            "83           4.9     7235      4  2018  Fiction  \n",
            "84           4.9     7235      4  2019  Fiction  \n",
            "85           4.9    12619      8  2019  Fiction  \n",
            "86           4.9     9089      8  2019  Fiction  \n",
            "87           4.9     5470      6  2018  Fiction  \n",
            "146          4.9     7038      7  2012  Fiction  \n"
          ]
        }
      ],
      "source": [
        "top_10_books=df.nlargest(10,'User Rating')\n",
        "print(top_10_books)"
      ]
    },
    {
      "cell_type": "markdown",
      "metadata": {
        "id": "MTMsypX81IIy"
      },
      "source": [
        "Scatter plot: Price vs User Rating."
      ]
    },
    {
      "cell_type": "code",
      "execution_count": 15,
      "metadata": {
        "colab": {
          "base_uri": "https://localhost:8080/",
          "height": 449
        },
        "id": "tIgbQZ7m1Lwo",
        "outputId": "77c819ae-8733-42e6-d4be-999d7d9ee016"
      },
      "outputs": [
        {
          "data": {
            "image/png": "[encoded data removed]",
            "text/plain": [
              "<Figure size 640x480 with 1 Axes>"
            ]
          },
          "metadata": {},
          "output_type": "display_data"
        }
      ],
      "source": [
        "scatter=plt.scatter(df['Price'],df['User Rating'])\n",
        "plt.xlabel('Price')\n",
        "plt.ylabel('User Rating')\n",
        "plt.show()"
      ]
    },
    {
      "cell_type": "markdown",
      "metadata": {
        "id": "hd4L2Ce51d9j"
      },
      "source": [
        "Average rating by genre."
      ]
    },
    {
      "cell_type": "code",
      "execution_count": 16,
      "metadata": {
        "colab": {
          "base_uri": "https://localhost:8080/"
        },
        "id": "tK4Cri4d1iZ6",
        "outputId": "2950b388-f0bc-4b33-d31f-eca88ae00733"
      },
      "outputs": [
        {
          "name": "stdout",
          "output_type": "stream",
          "text": [
            "Genre\n",
            "Fiction        4.65\n",
            "Non Fiction    4.60\n",
            "Name: User Rating, dtype: float64\n"
          ]
        }
      ],
      "source": [
        "average_rating=df.groupby('Genre')['User Rating'].mean()\n",
        "print(average_rating.round(2))"
      ]
    },
    {
      "cell_type": "markdown",
      "metadata": {
        "id": "0YluynWU2QfN"
      },
      "source": [
        "Count of books per year (bar chart)."
      ]
    },
    {
      "cell_type": "code",
      "execution_count": 17,
      "metadata": {
        "colab": {
          "base_uri": "https://localhost:8080/",
          "height": 493
        },
        "id": "diJkLSTd2WWr",
        "outputId": "09a0b491-a285-4e16-e4d4-d90b5a0b6077"
      },
      "outputs": [
        {
          "data": {
            "image/png": "[encoded data removed]",
            "text/plain": [
              "<Figure size 640x480 with 1 Axes>"
            ]
          },
          "metadata": {},
          "output_type": "display_data"
        }
      ],
      "source": [
        "books_per_year = df[\"Year\"].value_counts().sort_index()\n",
        "books_per_year.plot(kind=\"bar\",edgecolor=\"black\")\n",
        "plt.title(\"Count of Books per Year\")\n",
        "plt.xlabel(\"Year\")\n",
        "plt.ylabel(\"Number of Books\")\n",
        "plt.show()"
      ]
    },
    {
      "cell_type": "markdown",
      "metadata": {
        "id": "UC8D0vCJ4HcP"
      },
      "source": [
        "Part 3 – Statistics"
      ]
    },
    {
      "cell_type": "markdown",
      "metadata": {
        "id": "xZHjkO-V4ZI6"
      },
      "source": [
        "Calculate mean, median, and mode of Price."
      ]
    },
    {
      "cell_type": "code",
      "execution_count": 18,
      "metadata": {
        "colab": {
          "base_uri": "https://localhost:8080/"
        },
        "id": "JWR2r_0t4Lm8",
        "outputId": "e9ed94c8-b8b0-4b97-c91d-ff3c484949ec"
      },
      "outputs": [
        {
          "name": "stdout",
          "output_type": "stream",
          "text": [
            "Mean: 13.1\n",
            "Median: 11.0\n",
            "Mode: 0    8\n",
            "Name: Price, dtype: int64\n"
          ]
        }
      ],
      "source": [
        "mean=df['Price'].mean()\n",
        "print(\"Mean:\",mean)\n",
        "median=df['Price'].median()\n",
        "print(\"Median:\",median)\n",
        "mode=df['Price'].mode()\n",
        "print(\"Mode:\",mode)"
      ]
    },
    {
      "cell_type": "markdown",
      "metadata": {
        "id": "2qxymrt95QBZ"
      },
      "source": [
        "Find variance and standard deviation of User Rating."
      ]
    },
    {
      "cell_type": "code",
      "execution_count": 19,
      "metadata": {
        "colab": {
          "base_uri": "https://localhost:8080/"
        },
        "id": "MLh-f1f95M2H",
        "outputId": "d1dacd24-8048-40cc-c66c-5321f8127359"
      },
      "outputs": [
        {
          "name": "stdout",
          "output_type": "stream",
          "text": [
            "Variance: 0.05\n",
            "Standard Deviation: 0.23\n"
          ]
        }
      ],
      "source": [
        "variance=df['User Rating'].var()\n",
        "print(\"Variance:\",round(variance,2))\n",
        "std=df['User Rating'].std()\n",
        "print(\"Standard Deviation:\",round(std,2))\n"
      ]
    },
    {
      "cell_type": "markdown",
      "metadata": {
        "id": "SO9bEy3d52yr"
      },
      "source": [
        "Correlation between Price and User Rating."
      ]
    },
    {
      "cell_type": "code",
      "execution_count": 20,
      "metadata": {
        "colab": {
          "base_uri": "https://localhost:8080/"
        },
        "id": "O9a7MDlf56dU",
        "outputId": "707b2774-c53e-4fe5-834d-61456a3649ee"
      },
      "outputs": [
        {
          "name": "stdout",
          "output_type": "stream",
          "text": [
            "Correlation: -0.13\n"
          ]
        }
      ],
      "source": [
        "correlation=df['Price'].corr(df['User Rating'])\n",
        "print(\"Correlation:\",round(correlation,2))"
      ]
    },
    {
      "cell_type": "markdown",
      "metadata": {
        "id": "eHFC_rnp6afF"
      },
      "source": [
        "Percentage of books priced above $20."
      ]
    },
    {
      "cell_type": "code",
      "execution_count": 21,
      "metadata": {
        "colab": {
          "base_uri": "https://localhost:8080/"
        },
        "id": "E-3T8oHl6lFM",
        "outputId": "55f88f4c-bbf4-4e7b-8044-1c738b872191"
      },
      "outputs": [
        {
          "name": "stdout",
          "output_type": "stream",
          "text": [
            "Percentage of books priced above $20: 12.36 %\n"
          ]
        }
      ],
      "source": [
        "percentage=(df['Price']>20).mean()*100\n",
        "print(\"Percentage of books priced above $20:\",round(percentage,2),\"%\")"
      ]
    },
    {
      "cell_type": "markdown",
      "metadata": {
        "id": "fRlHWcWx67ND"
      },
      "source": [
        "Most common User Rating value.\n"
      ]
    },
    {
      "cell_type": "code",
      "execution_count": 22,
      "metadata": {
        "colab": {
          "base_uri": "https://localhost:8080/"
        },
        "id": "iGT2g0x066UC",
        "outputId": "d21f640d-f9e9-429f-c4e4-b7ba8f1ff5ba"
      },
      "outputs": [
        {
          "name": "stdout",
          "output_type": "stream",
          "text": [
            "Most common User Rating value: 4.8\n"
          ]
        }
      ],
      "source": [
        "most_common=df['User Rating'].value_counts().idxmax()\n",
        "print(\"Most common User Rating value:\",most_common)"
      ]
    },
    {
      "cell_type": "markdown",
      "metadata": {
        "id": "k1guB9BB9XCA"
      },
      "source": [
        "Part 4 – Linear Algebra & NumPy"
      ]
    },
    {
      "cell_type": "markdown",
      "metadata": {
        "id": "aSR4-WDW-PvF"
      },
      "source": [
        "Create NumPy arrays for Price and User Rating."
      ]
    },
    {
      "cell_type": "code",
      "execution_count": 23,
      "metadata": {
        "id": "GaKBDh_d9a53"
      },
      "outputs": [],
      "source": [
        "import numpy as np\n",
        "price=np.array(df['Price'])\n",
        "user_rating=np.array(df['User Rating'])"
      ]
    },
    {
      "cell_type": "markdown",
      "metadata": {
        "id": "F6QlA3h0-NwK"
      },
      "source": [
        "Perform vector addition and subtraction."
      ]
    },
    {
      "cell_type": "code",
      "execution_count": 24,
      "metadata": {
        "colab": {
          "base_uri": "https://localhost:8080/"
        },
        "id": "TMNCcBEO-WKz",
        "outputId": "7edbded4-c36c-40e2-9193-16be67cd572c"
      },
      "outputs": [
        {
          "name": "stdout",
          "output_type": "stream",
          "text": [
            "Addition: [ 12.7  26.6  19.7  10.7  16.8  15.4  34.7  19.7   7.7  12.6  12.6   6.6\n",
            "  36.6   9.5  21.6   8.5  10.6  10.4  12.5  17.8  18.6  18.6  16.9  13.6\n",
            "  17.3   9.6  13.7  18.2   9.6  15.6  28.8  25.7  15.8  15.8  19.8  17.7\n",
            "  17.7  22.7  17.6  12.5   9.9   9.9   4.8   8.6  22.8  32.5  15.7  15.7\n",
            "  15.7  20.7  18.7  18.7  18.7  12.3   8.8   9.8  15.6  15.6  14.8  17.4\n",
            "   8.6  12.3   8.2   9.8   9.8   9.8   9.8  21.6  19.6 109.5 109.5   4.8\n",
            "  19.8  26.8   9.6  19.6  19.6  10.5  10.6  17.7  16.8  10.9  12.9   8.9\n",
            "   8.9  12.9  12.9  10.9  24.8   9.6  20.5   5.5  18.3  13.5  13.5  11.7\n",
            "  22.7  19.7  19.7  13.7  12.6  12.6  19.7   6.4  11.4  15.5  17.8  17.8\n",
            "  36.5  10.2   8.7   8.7   8.7   8.7   8.7  13.4   4.7  13.4   9.6   9.6\n",
            "   9.6  24.5  20.6   8.8   8.8   8.8   8.8   8.8  16.6  16.6  16.6  15.6\n",
            "  22.6  13.8  10.6  14.   14.   13.   10.6  18.5  18.5  18.5  18.5   9.8\n",
            "   9.8   9.8  11.9  11.9  14.6  18.4  11.8  58.9  15.8  34.9  16.   22.9\n",
            "  34.9  26.9  13.7  56.8   8.8  14.7  14.7  18.4  18.4  26.8  15.7  15.7\n",
            "  15.7  15.7  15.7  20.3  19.8  19.8  21.9  21.7  11.8  11.6   8.8   8.8\n",
            "  13.3  25.4  18.1  24.6  17.4  17.4  16.8  12.9  12.9  12.9  12.9  12.9\n",
            "  12.9   4.6  16.5  21.6  16.5  29.6  14.7  14.7  10.6   9.6  10.8  12.8\n",
            "   8.5   8.5   8.5  17.9   8.6   8.6   8.6   8.6   8.6  17.5  25.5  10.4\n",
            "  19.8  22.5  14.1   4.9  16.5  11.5  17.2   9.8   9.8  20.8  24.5  15.7\n",
            "  31.8  12.7  12.7  12.7  10.4  14.6  14.6  14.6  12.5  12.5  12.5  20.8\n",
            "  15.8  14.6  13.7  18.6  26.9  12.9  12.9  12.9  12.9  12.9  12.9  12.9\n",
            "  12.9  11.8  16.2  17.6  17.6  13.5  17.3  15.6  24.6  24.6   9.7   9.7\n",
            "   6.8  31.8  31.8  31.8  13.7  14.3  14.3  50.5  50.5  50.5  50.5  50.5\n",
            "  50.5  50.5  50.5  50.5  50.5   8.8  24.6  11.6  13.7  13.7  16.6  16.6\n",
            "  16.9  16.9  24.8  24.8  14.6  10.8  10.8  13.7  15.7  20.8  10.1  29.7\n",
            "  21.6  24.6  24.6  10.9  21.   21.   21.   21.   21.   21.   21.   21.\n",
            "  21.   22.5  17.6  22.5  24.4  24.4  26.3  25.3  32.7  32.7  32.7  32.7\n",
            "  32.7  12.8  12.8  12.8  12.8  12.8  16.8  28.6  28.6  28.6  28.6  20.7\n",
            "  20.7  20.7  43.7  13.6  14.7  14.7  21.7  15.8  18.2  16.8  57.7  10.6\n",
            "  10.6  12.8  12.8  16.8  16.8  15.3  25.7  10.3  10.3  17.3   4.8  15.4\n",
            "  13.8  13.8  13.8  19.1  15.   17.7  17.7  11.7  17.7  10.6  10.6  10.6\n",
            "  10.6  10.6  13.6  10.7  10.7  10.7  10.7  10.7  10.7   4.8  22.1  11.1\n",
            "  18.7  18.7  13.7  20.7   6.4   6.4   9.8   9.8  23.9  23.9  11.4  11.4\n",
            "  11.4  18.5  14.7  11.3  17.6  15.8  10.8  10.8  12.8  11.8  18.8  18.7\n",
            "  12.7  12.7  34.8  34.8  17.7  13.7  13.7  11.3  11.3  13.7  11.8  11.8\n",
            "  24.9  17.4  17.4  15.5  15.5  15.5  15.5  22.4  18.8  23.2  17.8   9.9\n",
            "  14.8  13.7  12.5  12.8  16.6  15.8  15.8  44.4  44.4  44.4  44.4  44.4\n",
            "  40.3  20.3  21.8  18.8  25.8  22.5  21.4   9.8   9.8  25.6  22.3  22.3\n",
            "  16.6  18.6  16.8  12.6  12.6   4.6  18.5  14.8  19.6  19.6  19.6  13.7\n",
            "  11.7  14.7  10.4  13.4  14.7  86.7  16.8  14.7   9.9   9.9   9.9   9.9\n",
            "   9.9   9.9   9.9  20.6  20.6  20.6  14.9  14.9  14.9  14.9   8.8   8.8\n",
            "  20.7  19.7  23.6  23.6  13.5  27.5  15.3  15.3  27.6  27.6  27.6  27.6\n",
            "  16.3   4.8   4.8   4.8   4.8  11.8  25.6  25.8  19.5  13.7   9.5  20.8\n",
            "  20.8  20.8  17.8  20.8  24.3  15.9   8.8  13.7  46.8  16.5  22.6  21.7\n",
            "  18.7  17.8  13.4  10.4  10.4  18.8  19.8  17.8  16.6  22.4  19.5  15.2\n",
            "  13.8  13.8  13.8  13.8  13.8  12.9  12.7  12.7  12.7  12.7]\n",
            "Subtraction: [  3.3  17.4  10.3   1.3   7.2   6.6  25.3  10.3  -1.7   3.4   3.4  -2.6\n",
            "  27.4   0.5  12.4  -0.5   1.4   1.6   3.5   8.2   9.4   9.4   9.1   4.4\n",
            "   8.7   0.4   4.3   9.8   0.4   6.4  19.2  16.3   6.2   6.2  10.2   8.3\n",
            "   8.3  13.3   8.4   3.5   0.1   0.1  -4.8  -0.6  13.2  23.5   6.3   6.3\n",
            "   6.3  11.3   9.3   9.3   9.3   3.7  -0.8   0.2   6.4   6.4   5.2   8.6\n",
            "  -0.6   3.7  -0.2   0.2   0.2   0.2   0.2  12.4  10.4 100.5 100.5  -4.8\n",
            "  10.2  17.2   0.4  10.4  10.4   1.5   1.4   8.3   7.2   1.1   3.1  -0.9\n",
            "  -0.9   3.1   3.1   1.1  15.2   0.4  11.5  -3.5   9.7   4.5   4.5   2.3\n",
            "  13.3  10.3  10.3   4.3   3.4   3.4  10.3  -2.4   2.6   6.5  10.2  10.2\n",
            "  27.5   1.8  -0.7  -0.7  -0.7  -0.7  -0.7   4.6  -4.7   4.6   0.4   0.4\n",
            "   0.4  15.5  11.4  -0.8  -0.8  -0.8  -0.8  -0.8   7.4   7.4   7.4   6.4\n",
            "  15.4   4.2   1.4   6.    6.    5.    1.4   9.5   9.5   9.5   9.5   0.2\n",
            "   0.2   0.2   2.1   2.1   5.4   9.6   2.2  49.1   6.2  25.1   8.   13.1\n",
            "  25.1  17.1   4.3  47.2  -0.8   5.3   5.3   9.6   9.6  17.2   6.3   6.3\n",
            "   6.3   6.3   6.3  11.7  10.2  10.2  12.1  12.3   2.2   2.4  -0.8  -0.8\n",
            "   4.7  16.6   9.9  15.4   8.6   8.6   7.2   3.1   3.1   3.1   3.1   3.1\n",
            "   3.1  -4.6   7.5  12.4   7.5  20.4   5.3   5.3   1.4   0.4   1.2   3.2\n",
            "  -0.5  -0.5  -0.5   8.1  -0.6  -0.6  -0.6  -0.6  -0.6   8.5  16.5   1.6\n",
            "  10.2  13.5   5.9  -4.9   7.5   2.5   8.8   0.2   0.2  11.2  15.5   6.3\n",
            "  22.2   3.3   3.3   3.3   1.6   5.4   5.4   5.4   3.5   3.5   3.5  11.2\n",
            "   6.2   5.4   4.3   9.4  17.1   3.1   3.1   3.1   3.1   3.1   3.1   3.1\n",
            "   3.1   2.2   7.8   8.4   8.4   4.5   8.7   6.4  15.4  15.4   0.3   0.3\n",
            "  -2.8  22.2  22.2  22.2   4.3   5.7   5.7  41.5  41.5  41.5  41.5  41.5\n",
            "  41.5  41.5  41.5  41.5  41.5  -0.8  15.4   2.4   4.3   4.3   7.4   7.4\n",
            "   7.1   7.1  15.2  15.2   5.4   1.2   1.2   4.3   6.3  11.2   1.9  20.3\n",
            "  12.4  15.4  15.4   1.1  13.   13.   13.   13.   13.   13.   13.   13.\n",
            "  13.   13.5   8.4  13.5  15.6  15.6  17.7  16.7  23.3  23.3  23.3  23.3\n",
            "  23.3   3.2   3.2   3.2   3.2   3.2   7.2  19.4  19.4  19.4  19.4  11.3\n",
            "  11.3  11.3  34.3   4.4   5.3   5.3  12.3   6.2   9.8   7.2  48.3   1.4\n",
            "   1.4   3.2   3.2   7.2   7.2   8.7  16.3   1.7   1.7   8.7  -4.8   6.6\n",
            "   4.2   4.2   4.2  10.9   7.    8.3   8.3   2.3   8.3   1.4   1.4   1.4\n",
            "   1.4   1.4   4.4   1.3   1.3   1.3   1.3   1.3   1.3  -4.8  13.9   2.9\n",
            "   9.3   9.3   4.3  11.3  -2.4  -2.4   0.2   0.2  16.1  16.1   2.6   2.6\n",
            "   2.6   9.5   5.3   2.7   8.4   6.2   1.2   1.2   3.2   2.2   9.2   9.3\n",
            "   3.3   3.3  25.2  25.2   8.3   4.3   4.3   2.7   2.7   4.3   2.2   2.2\n",
            "  15.1   8.6   8.6   6.5   6.5   6.5   6.5  13.6   9.2  14.8   8.2   0.1\n",
            "   5.2   4.3   3.5   3.2   7.4   6.2   6.2  35.6  35.6  35.6  35.6  35.6\n",
            "  31.7  11.7  12.2   9.2  16.2  13.5  12.6   0.2   0.2  16.4  13.7  13.7\n",
            "   7.4   9.4   7.2   3.4   3.4  -4.6   9.5   5.2  10.4  10.4  10.4   4.3\n",
            "   2.3   5.3   1.6   4.6   5.3  77.3   7.2   5.3   0.1   0.1   0.1   0.1\n",
            "   0.1   0.1   0.1  11.4  11.4  11.4   5.1   5.1   5.1   5.1  -0.8  -0.8\n",
            "  11.3  10.3  14.4  14.4   4.5  18.5   6.7   6.7  18.4  18.4  18.4  18.4\n",
            "   7.7  -4.8  -4.8  -4.8  -4.8   2.2  16.4  16.2  10.5   4.3   0.5  11.2\n",
            "  11.2  11.2   8.2  11.2  15.7   6.1  -0.8   4.3  37.2   7.5  13.4  12.3\n",
            "   9.3   8.2   4.6   1.6   1.6   9.2  10.2   8.2   7.4  13.6  10.5   6.8\n",
            "   4.2   4.2   4.2   4.2   4.2   3.1   3.3   3.3   3.3   3.3]\n"
          ]
        }
      ],
      "source": [
        "np.set_printoptions(suppress=True)\n",
        "addition=np.add(price,user_rating)\n",
        "subtraction = np.subtract(price,user_rating)\n",
        "print(\"Addition:\",addition)\n",
        "print(\"Subtraction:\",subtraction)\n"
      ]
    },
    {
      "cell_type": "markdown",
      "metadata": {
        "id": "qnckeDXfBzea"
      },
      "source": [
        "Compute the dot product of these arrays."
      ]
    },
    {
      "cell_type": "code",
      "execution_count": 25,
      "metadata": {
        "colab": {
          "base_uri": "https://localhost:8080/"
        },
        "id": "7_WI3j-8B1ZL",
        "outputId": "1d047774-cc12-4427-ea9a-626eca0304e3"
      },
      "outputs": [
        {
          "name": "stdout",
          "output_type": "stream",
          "text": [
            "33095.5\n",
            "[ 34.4  32.9 -66.6]\n"
          ]
        }
      ],
      "source": [
        "dot_product=np.dot(price,user_rating)\n",
        "cross_product=np.cross(price[:3],user_rating[:3])\n",
        "print(dot_product.round(2))\n",
        "print(cross_product)"
      ]
    },
    {
      "cell_type": "markdown",
      "metadata": {
        "id": "OIZez_F3C3Z9"
      },
      "source": [
        "Create a matrix [Price, User Rating] and multiply by weights [0.7, 0.3]."
      ]
    },
    {
      "cell_type": "code",
      "execution_count": 26,
      "metadata": {
        "colab": {
          "base_uri": "https://localhost:8080/"
        },
        "id": "xqYp9psxC4mU",
        "outputId": "eccc6455-2278-4972-b7a9-1e3ff4882662"
      },
      "outputs": [
        {
          "name": "stdout",
          "output_type": "stream",
          "text": [
            "[ 7.01 16.78 11.91  5.61  9.84  9.02 22.41 11.91  3.51  6.98  6.98  2.78\n",
            " 23.78  4.85 13.28  4.15  5.58  5.52  6.95 10.54 11.18 11.18 10.27  7.68\n",
            " 10.39  4.88  7.71 11.06  4.88  9.08 18.24 16.11  9.14  9.14 11.94 10.51\n",
            " 10.51 14.01 10.48  6.95  4.97  4.97  1.44  4.18 14.04 20.95  9.11  9.11\n",
            "  9.11 12.61 11.21 11.21 11.21  6.89  4.24  4.94  9.08  9.08  8.44 10.42\n",
            "  4.18  6.89  4.06  4.94  4.94  4.94  4.94 13.28 11.88 74.85 74.85  1.44\n",
            " 11.94 16.84  4.88 11.88 11.88  5.55  5.58 10.51  9.84  5.67  7.07  4.27\n",
            "  4.27  7.07  7.07  5.67 15.44  4.88 12.55  2.05 11.09  7.65  7.65  6.31\n",
            " 14.01 11.91 11.91  7.71  6.98  6.98 11.91  2.72  6.22  9.05 10.94 10.94\n",
            " 23.75  5.46  4.21  4.21  4.21  4.21  4.21  7.62  1.41  7.62  4.88  4.88\n",
            "  4.88 15.35 12.58  4.24  4.24  4.24  4.24  4.24  9.78  9.78  9.78  9.08\n",
            " 14.38  7.74  5.58  8.2   8.2   7.5   5.58 11.15 11.15 11.15 11.15  4.94\n",
            "  4.94  4.94  6.37  6.37  8.38 11.12  6.34 39.27  9.14 22.47  9.6  14.07\n",
            " 22.47 16.87  7.71 37.84  4.24  8.41  8.41 11.12 11.12 16.84  9.11  9.11\n",
            "  9.11  9.11  9.11 12.49 11.94 11.94 13.37 13.31  6.34  6.28  4.24  4.24\n",
            "  7.59 16.02 11.03 15.38 10.42 10.42  9.84  7.07  7.07  7.07  7.07  7.07\n",
            "  7.07  1.38  9.75 13.28  9.75 18.88  8.41  8.41  5.58  4.88  5.64  7.04\n",
            "  4.15  4.15  4.15 10.57  4.18  4.18  4.18  4.18  4.18 10.45 16.05  5.52\n",
            " 11.94 13.95  8.23  1.47  9.75  6.25 10.36  4.94  4.94 12.64 15.35  9.11\n",
            " 20.34  7.01  7.01  7.01  5.52  8.38  8.38  8.38  6.95  6.95  6.95 12.64\n",
            "  9.14  8.38  7.71 11.18 16.87  7.07  7.07  7.07  7.07  7.07  7.07  7.07\n",
            "  7.07  6.34  9.66 10.48 10.48  7.65 10.39  9.08 15.38 15.38  4.91  4.91\n",
            "  2.84 20.34 20.34 20.34  7.71  8.29  8.29 33.55 33.55 33.55 33.55 33.55\n",
            " 33.55 33.55 33.55 33.55 33.55  4.24 15.38  6.28  7.71  7.71  9.78  9.78\n",
            "  9.87  9.87 15.44 15.44  8.38  5.64  5.64  7.71  9.11 12.64  5.43 18.91\n",
            " 13.28 15.38 15.38  5.67 13.1  13.1  13.1  13.1  13.1  13.1  13.1  13.1\n",
            " 13.1  13.95 10.48 13.95 15.32 15.32 16.69 15.99 21.01 21.01 21.01 21.01\n",
            " 21.01  7.04  7.04  7.04  7.04  7.04  9.84 18.18 18.18 18.18 18.18 12.61\n",
            " 12.61 12.61 28.71  7.68  8.41  8.41 13.31  9.14 11.06  9.84 38.51  5.58\n",
            "  5.58  7.04  7.04  9.84  9.84  9.39 16.11  5.49  5.49 10.39  1.44  9.02\n",
            "  7.74  7.74  7.74 11.73  8.9  10.51 10.51  6.31 10.51  5.58  5.58  5.58\n",
            "  5.58  5.58  7.68  5.61  5.61  5.61  5.61  5.61  5.61  1.44 13.83  6.13\n",
            " 11.21 11.21  7.71 12.61  2.72  2.72  4.94  4.94 15.17 15.17  6.22  6.22\n",
            "  6.22 11.15  8.41  6.19 10.48  9.14  5.64  5.64  7.04  6.34 11.24 11.21\n",
            "  7.01  7.01 22.44 22.44 10.51  7.71  7.71  6.19  6.19  7.71  6.34  6.34\n",
            " 15.47 10.42 10.42  9.05  9.05  9.05  9.05 13.92 11.24 14.56 10.54  4.97\n",
            "  8.44  7.71  6.95  7.04  9.78  9.14  9.14 29.32 29.32 29.32 29.32 29.32\n",
            " 26.49 12.49 13.34 11.24 16.14 13.95 13.22  4.94  4.94 16.08 13.89 13.89\n",
            "  9.78 11.18  9.84  6.98  6.98  1.38 11.15  8.44 11.88 11.88 11.88  7.71\n",
            "  6.31  8.41  5.52  7.62  8.41 58.81  9.84  8.41  4.97  4.97  4.97  4.97\n",
            "  4.97  4.97  4.97 12.58 12.58 12.58  8.47  8.47  8.47  8.47  4.24  4.24\n",
            " 12.61 11.91 14.68 14.68  7.65 17.45  8.99  8.99 17.48 17.48 17.48 17.48\n",
            "  9.69  1.44  1.44  1.44  1.44  6.34 16.08 16.14 11.85  7.71  4.85 12.64\n",
            " 12.64 12.64 10.54 12.64 15.29  9.17  4.24  7.71 30.84  9.75 13.98 13.31\n",
            " 11.21 10.54  7.62  5.52  5.52 11.24 11.94 10.54  9.78 13.92 11.85  8.96\n",
            "  7.74  7.74  7.74  7.74  7.74  7.07  7.01  7.01  7.01  7.01]\n"
          ]
        }
      ],
      "source": [
        "matrix=np.array([price, user_rating])\n",
        "weights=np.array([0.7, 0.3])\n",
        "result=np.dot(weights, matrix)\n",
        "print(result)"
      ]
    },
    {
      "cell_type": "markdown",
      "metadata": {
        "id": "vxnawuWIDxYg"
      },
      "source": [
        "Normalize the Price array."
      ]
    },
    {
      "cell_type": "code",
      "execution_count": 27,
      "metadata": {
        "colab": {
          "base_uri": "https://localhost:8080/"
        },
        "id": "_4vQuzISD2F2",
        "outputId": "5860ed29-5d58-4f1a-87f5-67aa557f5e34"
      },
      "outputs": [
        {
          "name": "stdout",
          "output_type": "stream",
          "text": [
            "[-0.47  0.82  0.18 -0.66 -0.1  -0.19  1.56  0.18 -0.93 -0.47 -0.47 -1.02\n",
            "  1.74 -0.75  0.36 -0.84 -0.66 -0.66 -0.47 -0.01  0.08  0.08 -0.01 -0.38\n",
            " -0.01 -0.75 -0.38  0.08 -0.75 -0.19  1.01  0.73 -0.19 -0.19  0.18 -0.01\n",
            " -0.01  0.45 -0.01 -0.47 -0.75 -0.75 -1.21 -0.84  0.45  1.38 -0.19 -0.19\n",
            " -0.19  0.27  0.08  0.08  0.08 -0.47 -0.84 -0.75 -0.19 -0.19 -0.29 -0.01\n",
            " -0.84 -0.47 -0.84 -0.75 -0.75 -0.75 -0.75  0.36  0.18  8.48  8.48 -1.21\n",
            "  0.18  0.82 -0.75  0.18  0.18 -0.66 -0.66 -0.01 -0.1  -0.66 -0.47 -0.84\n",
            " -0.84 -0.47 -0.47 -0.66  0.64 -0.75  0.27 -1.12  0.08 -0.38 -0.38 -0.56\n",
            "  0.45  0.18  0.18 -0.38 -0.47 -0.47  0.18 -1.02 -0.56 -0.19  0.08  0.08\n",
            "  1.74 -0.66 -0.84 -0.84 -0.84 -0.84 -0.84 -0.38 -1.21 -0.38 -0.75 -0.75\n",
            " -0.75  0.64  0.27 -0.84 -0.84 -0.84 -0.84 -0.84 -0.1  -0.1  -0.1  -0.19\n",
            "  0.54 -0.38 -0.66 -0.29 -0.29 -0.38 -0.66  0.08  0.08  0.08  0.08 -0.75\n",
            " -0.75 -0.75 -0.56 -0.56 -0.29  0.08 -0.56  3.78 -0.19  1.56 -0.1   0.45\n",
            "  1.56  0.82 -0.38  3.59 -0.84 -0.29 -0.29  0.08  0.08  0.82 -0.19 -0.19\n",
            " -0.19 -0.19 -0.19  0.27  0.18  0.18  0.36  0.36 -0.56 -0.56 -0.84 -0.84\n",
            " -0.38  0.73  0.08  0.64 -0.01 -0.01 -0.1  -0.47 -0.47 -0.47 -0.47 -0.47\n",
            " -0.47 -1.21 -0.1   0.36 -0.1   1.1  -0.29 -0.29 -0.66 -0.75 -0.66 -0.47\n",
            " -0.84 -0.84 -0.84 -0.01 -0.84 -0.84 -0.84 -0.84 -0.84 -0.01  0.73 -0.66\n",
            "  0.18  0.45 -0.29 -1.21 -0.1  -0.56 -0.01 -0.75 -0.75  0.27  0.64 -0.19\n",
            "  1.28 -0.47 -0.47 -0.47 -0.66 -0.29 -0.29 -0.29 -0.47 -0.47 -0.47  0.27\n",
            " -0.19 -0.29 -0.38  0.08  0.82 -0.47 -0.47 -0.47 -0.47 -0.47 -0.47 -0.47\n",
            " -0.47 -0.56 -0.1  -0.01 -0.01 -0.38 -0.01 -0.19  0.64  0.64 -0.75 -0.75\n",
            " -1.02  1.28  1.28  1.28 -0.38 -0.29 -0.29  3.04  3.04  3.04  3.04  3.04\n",
            "  3.04  3.04  3.04  3.04  3.04 -0.84  0.64 -0.56 -0.38 -0.38 -0.1  -0.1\n",
            " -0.1  -0.1   0.64  0.64 -0.29 -0.66 -0.66 -0.38 -0.19  0.27 -0.66  1.1\n",
            "  0.36  0.64  0.64 -0.66  0.36  0.36  0.36  0.36  0.36  0.36  0.36  0.36\n",
            "  0.36  0.45 -0.01  0.45  0.64  0.64  0.82  0.73  1.38  1.38  1.38  1.38\n",
            "  1.38 -0.47 -0.47 -0.47 -0.47 -0.47 -0.1   1.01  1.01  1.01  1.01  0.27\n",
            "  0.27  0.27  2.39 -0.38 -0.29 -0.29  0.36 -0.19  0.08 -0.1   3.68 -0.66\n",
            " -0.66 -0.47 -0.47 -0.1  -0.1  -0.1   0.73 -0.66 -0.66 -0.01 -1.21 -0.19\n",
            " -0.38 -0.38 -0.38  0.18 -0.19 -0.01 -0.01 -0.56 -0.01 -0.66 -0.66 -0.66\n",
            " -0.66 -0.66 -0.38 -0.66 -0.66 -0.66 -0.66 -0.66 -0.66 -1.21  0.45 -0.56\n",
            "  0.08  0.08 -0.38  0.27 -1.02 -1.02 -0.75 -0.75  0.64  0.64 -0.56 -0.56\n",
            " -0.56  0.08 -0.29 -0.56 -0.01 -0.19 -0.66 -0.66 -0.47 -0.56  0.08  0.08\n",
            " -0.47 -0.47  1.56  1.56 -0.01 -0.38 -0.38 -0.56 -0.56 -0.38 -0.56 -0.56\n",
            "  0.64 -0.01 -0.01 -0.19 -0.19 -0.19 -0.19  0.45  0.08  0.54 -0.01 -0.75\n",
            " -0.29 -0.38 -0.47 -0.47 -0.1  -0.19 -0.19  2.48  2.48  2.48  2.48  2.48\n",
            "  2.11  0.27  0.36  0.08  0.73  0.45  0.36 -0.75 -0.75  0.73  0.45  0.45\n",
            " -0.1   0.08 -0.1  -0.47 -0.47 -1.21  0.08 -0.29  0.18  0.18  0.18 -0.38\n",
            " -0.56 -0.29 -0.66 -0.38 -0.29  6.36 -0.1  -0.29 -0.75 -0.75 -0.75 -0.75\n",
            " -0.75 -0.75 -0.75  0.27  0.27  0.27 -0.29 -0.29 -0.29 -0.29 -0.84 -0.84\n",
            "  0.27  0.18  0.54  0.54 -0.38  0.91 -0.19 -0.19  0.91  0.91  0.91  0.91\n",
            " -0.1  -1.21 -1.21 -1.21 -1.21 -0.56  0.73  0.73  0.18 -0.38 -0.75  0.27\n",
            "  0.27  0.27 -0.01  0.27  0.64 -0.19 -0.84 -0.38  2.67 -0.1   0.45  0.36\n",
            "  0.08 -0.01 -0.38 -0.66 -0.66  0.08  0.18 -0.01 -0.1   0.45  0.18 -0.19\n",
            " -0.38 -0.38 -0.38 -0.38 -0.38 -0.47 -0.47 -0.47 -0.47 -0.47]\n"
          ]
        }
      ],
      "source": [
        "normalized_price=(price-np.mean(price))/np.std(price)\n",
        "print(normalized_price.round(2))"
      ]
    },
    {
      "cell_type": "markdown",
      "metadata": {
        "id": "zGga2fg6dGnh"
      },
      "source": [
        "Part 5 – Calculus"
      ]
    },
    {
      "cell_type": "code",
      "execution_count": 28,
      "metadata": {
        "colab": {
          "base_uri": "https://localhost:8080/"
        },
        "id": "v0BZwwlidP22",
        "outputId": "4e669f67-dc31-4213-a074-a3ca3aedcc70"
      },
      "outputs": [
        {
          "name": "stdout",
          "output_type": "stream",
          "text": [
            "1.0*Price - 10.0\n"
          ]
        }
      ],
      "source": [
        "import sympy as sp\n",
        "Price=sp.symbols('Price')\n",
        "UserRating=sp.symbols('UserRating')\n",
        "Reviews=sp.symbols('Reviews')\n",
        "popularity_index=(UserRating*Reviews)+0.5*(Price-10)**2\n",
        "derivative=sp.diff(popularity_index,Price)\n",
        "print(derivative)"
      ]
    },
    {
      "cell_type": "markdown",
      "metadata": {
        "id": "8Jy4i6NTi6wg"
      },
      "source": [
        "Part 6 – Feature Engineering"
      ]
    },
    {
      "cell_type": "code",
      "execution_count": 29,
      "metadata": {
        "colab": {
          "base_uri": "https://localhost:8080/",
          "height": 206
        },
        "id": "4jXqN9oyjJYq",
        "outputId": "53b7a55a-bc7d-4289-8c27-4aebb028e509"
      },
      "outputs": [
        {
          "data": {
            "text/html": [
              "<div>\n",
              "<style scoped>\n",
              "    .dataframe tbody tr th:only-of-type {\n",
              "        vertical-align: middle;\n",
              "    }\n",
              "\n",
              "    .dataframe tbody tr th {\n",
              "        vertical-align: top;\n",
              "    }\n",
              "\n",
              "    .dataframe thead th {\n",
              "        text-align: right;\n",
              "    }\n",
              "</style>\n",
              "<table border=\"1\" class=\"dataframe\">\n",
              "  <thead>\n",
              "    <tr style=\"text-align: right;\">\n",
              "      <th></th>\n",
              "      <th>Name</th>\n",
              "      <th>Author</th>\n",
              "      <th>User Rating</th>\n",
              "      <th>Reviews</th>\n",
              "      <th>Price</th>\n",
              "      <th>Year</th>\n",
              "      <th>Genre</th>\n",
              "      <th>is_expensive</th>\n",
              "    </tr>\n",
              "  </thead>\n",
              "  <tbody>\n",
              "    <tr>\n",
              "      <th>0</th>\n",
              "      <td>10-Day Green Smoothie Cleanse</td>\n",
              "      <td>JJ Smith</td>\n",
              "      <td>4.7</td>\n",
              "      <td>17350</td>\n",
              "      <td>8</td>\n",
              "      <td>2016</td>\n",
              "      <td>Non Fiction</td>\n",
              "      <td>0</td>\n",
              "    </tr>\n",
              "    <tr>\n",
              "      <th>1</th>\n",
              "      <td>11/22/63: A Novel</td>\n",
              "      <td>Stephen King</td>\n",
              "      <td>4.6</td>\n",
              "      <td>2052</td>\n",
              "      <td>22</td>\n",
              "      <td>2011</td>\n",
              "      <td>Fiction</td>\n",
              "      <td>1</td>\n",
              "    </tr>\n",
              "    <tr>\n",
              "      <th>2</th>\n",
              "      <td>12 Rules for Life: An Antidote to Chaos</td>\n",
              "      <td>Jordan B. Peterson</td>\n",
              "      <td>4.7</td>\n",
              "      <td>18979</td>\n",
              "      <td>15</td>\n",
              "      <td>2018</td>\n",
              "      <td>Non Fiction</td>\n",
              "      <td>0</td>\n",
              "    </tr>\n",
              "    <tr>\n",
              "      <th>3</th>\n",
              "      <td>1984 (Signet Classics)</td>\n",
              "      <td>George Orwell</td>\n",
              "      <td>4.7</td>\n",
              "      <td>21424</td>\n",
              "      <td>6</td>\n",
              "      <td>2017</td>\n",
              "      <td>Fiction</td>\n",
              "      <td>0</td>\n",
              "    </tr>\n",
              "    <tr>\n",
              "      <th>4</th>\n",
              "      <td>5,000 Awesome Facts (About Everything!) (Natio...</td>\n",
              "      <td>National Geographic Kids</td>\n",
              "      <td>4.8</td>\n",
              "      <td>7665</td>\n",
              "      <td>12</td>\n",
              "      <td>2019</td>\n",
              "      <td>Non Fiction</td>\n",
              "      <td>0</td>\n",
              "    </tr>\n",
              "  </tbody>\n",
              "</table>\n",
              "</div>"
            ],
            "text/plain": [
              "                                                Name  \\\n",
              "0                      10-Day Green Smoothie Cleanse   \n",
              "1                                  11/22/63: A Novel   \n",
              "2            12 Rules for Life: An Antidote to Chaos   \n",
              "3                             1984 (Signet Classics)   \n",
              "4  5,000 Awesome Facts (About Everything!) (Natio...   \n",
              "\n",
              "                     Author  User Rating  Reviews  Price  Year        Genre  \\\n",
              "0                  JJ Smith          4.7    17350      8  2016  Non Fiction   \n",
              "1              Stephen King          4.6     2052     22  2011      Fiction   \n",
              "2        Jordan B. Peterson          4.7    18979     15  2018  Non Fiction   \n",
              "3             George Orwell          4.7    21424      6  2017      Fiction   \n",
              "4  National Geographic Kids          4.8     7665     12  2019  Non Fiction   \n",
              "\n",
              "   is_expensive  \n",
              "0             0  \n",
              "1             1  \n",
              "2             0  \n",
              "3             0  \n",
              "4             0  "
            ]
          },
          "execution_count": 29,
          "metadata": {},
          "output_type": "execute_result"
        }
      ],
      "source": [
        "# is_expensive = 1 if Price > 20 else 0\n",
        "df['is_expensive']=( df['Price']>20 ).astype(int)\n",
        "df.head()"
      ]
    },
    {
      "cell_type": "markdown",
      "metadata": {
        "id": "-5L0YaXFkI3w"
      },
      "source": [
        "Create high_rating = 1 if User Rating ≥ 4.8 else 0."
      ]
    },
    {
      "cell_type": "code",
      "execution_count": 30,
      "metadata": {
        "colab": {
          "base_uri": "https://localhost:8080/",
          "height": 206
        },
        "id": "rarZqZjmkAWt",
        "outputId": "77cb3889-1271-45e5-ecbb-01655be66197"
      },
      "outputs": [
        {
          "data": {
            "text/html": [
              "<div>\n",
              "<style scoped>\n",
              "    .dataframe tbody tr th:only-of-type {\n",
              "        vertical-align: middle;\n",
              "    }\n",
              "\n",
              "    .dataframe tbody tr th {\n",
              "        vertical-align: top;\n",
              "    }\n",
              "\n",
              "    .dataframe thead th {\n",
              "        text-align: right;\n",
              "    }\n",
              "</style>\n",
              "<table border=\"1\" class=\"dataframe\">\n",
              "  <thead>\n",
              "    <tr style=\"text-align: right;\">\n",
              "      <th></th>\n",
              "      <th>Name</th>\n",
              "      <th>Author</th>\n",
              "      <th>User Rating</th>\n",
              "      <th>Reviews</th>\n",
              "      <th>Price</th>\n",
              "      <th>Year</th>\n",
              "      <th>Genre</th>\n",
              "      <th>is_expensive</th>\n",
              "      <th>high_rating</th>\n",
              "    </tr>\n",
              "  </thead>\n",
              "  <tbody>\n",
              "    <tr>\n",
              "      <th>0</th>\n",
              "      <td>10-Day Green Smoothie Cleanse</td>\n",
              "      <td>JJ Smith</td>\n",
              "      <td>4.7</td>\n",
              "      <td>17350</td>\n",
              "      <td>8</td>\n",
              "      <td>2016</td>\n",
              "      <td>Non Fiction</td>\n",
              "      <td>0</td>\n",
              "      <td>0</td>\n",
              "    </tr>\n",
              "    <tr>\n",
              "      <th>1</th>\n",
              "      <td>11/22/63: A Novel</td>\n",
              "      <td>Stephen King</td>\n",
              "      <td>4.6</td>\n",
              "      <td>2052</td>\n",
              "      <td>22</td>\n",
              "      <td>2011</td>\n",
              "      <td>Fiction</td>\n",
              "      <td>1</td>\n",
              "      <td>0</td>\n",
              "    </tr>\n",
              "    <tr>\n",
              "      <th>2</th>\n",
              "      <td>12 Rules for Life: An Antidote to Chaos</td>\n",
              "      <td>Jordan B. Peterson</td>\n",
              "      <td>4.7</td>\n",
              "      <td>18979</td>\n",
              "      <td>15</td>\n",
              "      <td>2018</td>\n",
              "      <td>Non Fiction</td>\n",
              "      <td>0</td>\n",
              "      <td>0</td>\n",
              "    </tr>\n",
              "    <tr>\n",
              "      <th>3</th>\n",
              "      <td>1984 (Signet Classics)</td>\n",
              "      <td>George Orwell</td>\n",
              "      <td>4.7</td>\n",
              "      <td>21424</td>\n",
              "      <td>6</td>\n",
              "      <td>2017</td>\n",
              "      <td>Fiction</td>\n",
              "      <td>0</td>\n",
              "      <td>0</td>\n",
              "    </tr>\n",
              "    <tr>\n",
              "      <th>4</th>\n",
              "      <td>5,000 Awesome Facts (About Everything!) (Natio...</td>\n",
              "      <td>National Geographic Kids</td>\n",
              "      <td>4.8</td>\n",
              "      <td>7665</td>\n",
              "      <td>12</td>\n",
              "      <td>2019</td>\n",
              "      <td>Non Fiction</td>\n",
              "      <td>0</td>\n",
              "      <td>1</td>\n",
              "    </tr>\n",
              "  </tbody>\n",
              "</table>\n",
              "</div>"
            ],
            "text/plain": [
              "                                                Name  \\\n",
              "0                      10-Day Green Smoothie Cleanse   \n",
              "1                                  11/22/63: A Novel   \n",
              "2            12 Rules for Life: An Antidote to Chaos   \n",
              "3                             1984 (Signet Classics)   \n",
              "4  5,000 Awesome Facts (About Everything!) (Natio...   \n",
              "\n",
              "                     Author  User Rating  Reviews  Price  Year        Genre  \\\n",
              "0                  JJ Smith          4.7    17350      8  2016  Non Fiction   \n",
              "1              Stephen King          4.6     2052     22  2011      Fiction   \n",
              "2        Jordan B. Peterson          4.7    18979     15  2018  Non Fiction   \n",
              "3             George Orwell          4.7    21424      6  2017      Fiction   \n",
              "4  National Geographic Kids          4.8     7665     12  2019  Non Fiction   \n",
              "\n",
              "   is_expensive  high_rating  \n",
              "0             0            0  \n",
              "1             1            0  \n",
              "2             0            0  \n",
              "3             0            0  \n",
              "4             0            1  "
            ]
          },
          "execution_count": 30,
          "metadata": {},
          "output_type": "execute_result"
        }
      ],
      "source": [
        "df['high_rating']=(df['User Rating']>=4.8).astype(int)\n",
        "df.head()"
      ]
    },
    {
      "cell_type": "markdown",
      "metadata": {
        "id": "chJsmPg8kYjt"
      },
      "source": [
        "Create reviews_per_dollar = Reviews / Price."
      ]
    },
    {
      "cell_type": "code",
      "execution_count": 31,
      "metadata": {
        "colab": {
          "base_uri": "https://localhost:8080/",
          "height": 275
        },
        "id": "7u6KcCaukX3K",
        "outputId": "1815375a-c7c1-4c70-e0cf-f3ce256da544"
      },
      "outputs": [
        {
          "data": {
            "text/html": [
              "<div>\n",
              "<style scoped>\n",
              "    .dataframe tbody tr th:only-of-type {\n",
              "        vertical-align: middle;\n",
              "    }\n",
              "\n",
              "    .dataframe tbody tr th {\n",
              "        vertical-align: top;\n",
              "    }\n",
              "\n",
              "    .dataframe thead th {\n",
              "        text-align: right;\n",
              "    }\n",
              "</style>\n",
              "<table border=\"1\" class=\"dataframe\">\n",
              "  <thead>\n",
              "    <tr style=\"text-align: right;\">\n",
              "      <th></th>\n",
              "      <th>Name</th>\n",
              "      <th>Author</th>\n",
              "      <th>User Rating</th>\n",
              "      <th>Reviews</th>\n",
              "      <th>Price</th>\n",
              "      <th>Year</th>\n",
              "      <th>Genre</th>\n",
              "      <th>is_expensive</th>\n",
              "      <th>high_rating</th>\n",
              "      <th>reviews_per_dollar</th>\n",
              "    </tr>\n",
              "  </thead>\n",
              "  <tbody>\n",
              "    <tr>\n",
              "      <th>0</th>\n",
              "      <td>10-Day Green Smoothie Cleanse</td>\n",
              "      <td>JJ Smith</td>\n",
              "      <td>4.7</td>\n",
              "      <td>17350</td>\n",
              "      <td>8</td>\n",
              "      <td>2016</td>\n",
              "      <td>Non Fiction</td>\n",
              "      <td>0</td>\n",
              "      <td>0</td>\n",
              "      <td>2168.750000</td>\n",
              "    </tr>\n",
              "    <tr>\n",
              "      <th>1</th>\n",
              "      <td>11/22/63: A Novel</td>\n",
              "      <td>Stephen King</td>\n",
              "      <td>4.6</td>\n",
              "      <td>2052</td>\n",
              "      <td>22</td>\n",
              "      <td>2011</td>\n",
              "      <td>Fiction</td>\n",
              "      <td>1</td>\n",
              "      <td>0</td>\n",
              "      <td>93.272727</td>\n",
              "    </tr>\n",
              "    <tr>\n",
              "      <th>2</th>\n",
              "      <td>12 Rules for Life: An Antidote to Chaos</td>\n",
              "      <td>Jordan B. Peterson</td>\n",
              "      <td>4.7</td>\n",
              "      <td>18979</td>\n",
              "      <td>15</td>\n",
              "      <td>2018</td>\n",
              "      <td>Non Fiction</td>\n",
              "      <td>0</td>\n",
              "      <td>0</td>\n",
              "      <td>1265.266667</td>\n",
              "    </tr>\n",
              "    <tr>\n",
              "      <th>3</th>\n",
              "      <td>1984 (Signet Classics)</td>\n",
              "      <td>George Orwell</td>\n",
              "      <td>4.7</td>\n",
              "      <td>21424</td>\n",
              "      <td>6</td>\n",
              "      <td>2017</td>\n",
              "      <td>Fiction</td>\n",
              "      <td>0</td>\n",
              "      <td>0</td>\n",
              "      <td>3570.666667</td>\n",
              "    </tr>\n",
              "    <tr>\n",
              "      <th>4</th>\n",
              "      <td>5,000 Awesome Facts (About Everything!) (Natio...</td>\n",
              "      <td>National Geographic Kids</td>\n",
              "      <td>4.8</td>\n",
              "      <td>7665</td>\n",
              "      <td>12</td>\n",
              "      <td>2019</td>\n",
              "      <td>Non Fiction</td>\n",
              "      <td>0</td>\n",
              "      <td>1</td>\n",
              "      <td>638.750000</td>\n",
              "    </tr>\n",
              "  </tbody>\n",
              "</table>\n",
              "</div>"
            ],
            "text/plain": [
              "                                                Name  \\\n",
              "0                      10-Day Green Smoothie Cleanse   \n",
              "1                                  11/22/63: A Novel   \n",
              "2            12 Rules for Life: An Antidote to Chaos   \n",
              "3                             1984 (Signet Classics)   \n",
              "4  5,000 Awesome Facts (About Everything!) (Natio...   \n",
              "\n",
              "                     Author  User Rating  Reviews  Price  Year        Genre  \\\n",
              "0                  JJ Smith          4.7    17350      8  2016  Non Fiction   \n",
              "1              Stephen King          4.6     2052     22  2011      Fiction   \n",
              "2        Jordan B. Peterson          4.7    18979     15  2018  Non Fiction   \n",
              "3             George Orwell          4.7    21424      6  2017      Fiction   \n",
              "4  National Geographic Kids          4.8     7665     12  2019  Non Fiction   \n",
              "\n",
              "   is_expensive  high_rating  reviews_per_dollar  \n",
              "0             0            0         2168.750000  \n",
              "1             1            0           93.272727  \n",
              "2             0            0         1265.266667  \n",
              "3             0            0         3570.666667  \n",
              "4             0            1          638.750000  "
            ]
          },
          "execution_count": 31,
          "metadata": {},
          "output_type": "execute_result"
        }
      ],
      "source": [
        "df['reviews_per_dollar']=df['Reviews']/df['Price']\n",
        "df.head()"
      ]
    },
    {
      "cell_type": "markdown",
      "metadata": {
        "id": "Eo4K-5MVkj6D"
      },
      "source": [
        "Create year_category = Old (2009–2013), Mid (2014–2016), Recent (2017–2019)."
      ]
    },
    {
      "cell_type": "code",
      "execution_count": 32,
      "metadata": {
        "colab": {
          "base_uri": "https://localhost:8080/",
          "height": 275
        },
        "id": "O2KGcjJZkwy7",
        "outputId": "30c86929-9a07-425c-e14a-9d14322892eb"
      },
      "outputs": [
        {
          "data": {
            "text/html": [
              "<div>\n",
              "<style scoped>\n",
              "    .dataframe tbody tr th:only-of-type {\n",
              "        vertical-align: middle;\n",
              "    }\n",
              "\n",
              "    .dataframe tbody tr th {\n",
              "        vertical-align: top;\n",
              "    }\n",
              "\n",
              "    .dataframe thead th {\n",
              "        text-align: right;\n",
              "    }\n",
              "</style>\n",
              "<table border=\"1\" class=\"dataframe\">\n",
              "  <thead>\n",
              "    <tr style=\"text-align: right;\">\n",
              "      <th></th>\n",
              "      <th>Name</th>\n",
              "      <th>Author</th>\n",
              "      <th>User Rating</th>\n",
              "      <th>Reviews</th>\n",
              "      <th>Price</th>\n",
              "      <th>Year</th>\n",
              "      <th>Genre</th>\n",
              "      <th>is_expensive</th>\n",
              "      <th>high_rating</th>\n",
              "      <th>reviews_per_dollar</th>\n",
              "      <th>year_category</th>\n",
              "    </tr>\n",
              "  </thead>\n",
              "  <tbody>\n",
              "    <tr>\n",
              "      <th>0</th>\n",
              "      <td>10-Day Green Smoothie Cleanse</td>\n",
              "      <td>JJ Smith</td>\n",
              "      <td>4.7</td>\n",
              "      <td>17350</td>\n",
              "      <td>8</td>\n",
              "      <td>2016</td>\n",
              "      <td>Non Fiction</td>\n",
              "      <td>0</td>\n",
              "      <td>0</td>\n",
              "      <td>2168.750000</td>\n",
              "      <td>Mid</td>\n",
              "    </tr>\n",
              "    <tr>\n",
              "      <th>1</th>\n",
              "      <td>11/22/63: A Novel</td>\n",
              "      <td>Stephen King</td>\n",
              "      <td>4.6</td>\n",
              "      <td>2052</td>\n",
              "      <td>22</td>\n",
              "      <td>2011</td>\n",
              "      <td>Fiction</td>\n",
              "      <td>1</td>\n",
              "      <td>0</td>\n",
              "      <td>93.272727</td>\n",
              "      <td>Old</td>\n",
              "    </tr>\n",
              "    <tr>\n",
              "      <th>2</th>\n",
              "      <td>12 Rules for Life: An Antidote to Chaos</td>\n",
              "      <td>Jordan B. Peterson</td>\n",
              "      <td>4.7</td>\n",
              "      <td>18979</td>\n",
              "      <td>15</td>\n",
              "      <td>2018</td>\n",
              "      <td>Non Fiction</td>\n",
              "      <td>0</td>\n",
              "      <td>0</td>\n",
              "      <td>1265.266667</td>\n",
              "      <td>Recent</td>\n",
              "    </tr>\n",
              "    <tr>\n",
              "      <th>3</th>\n",
              "      <td>1984 (Signet Classics)</td>\n",
              "      <td>George Orwell</td>\n",
              "      <td>4.7</td>\n",
              "      <td>21424</td>\n",
              "      <td>6</td>\n",
              "      <td>2017</td>\n",
              "      <td>Fiction</td>\n",
              "      <td>0</td>\n",
              "      <td>0</td>\n",
              "      <td>3570.666667</td>\n",
              "      <td>Recent</td>\n",
              "    </tr>\n",
              "    <tr>\n",
              "      <th>4</th>\n",
              "      <td>5,000 Awesome Facts (About Everything!) (Natio...</td>\n",
              "      <td>National Geographic Kids</td>\n",
              "      <td>4.8</td>\n",
              "      <td>7665</td>\n",
              "      <td>12</td>\n",
              "      <td>2019</td>\n",
              "      <td>Non Fiction</td>\n",
              "      <td>0</td>\n",
              "      <td>1</td>\n",
              "      <td>638.750000</td>\n",
              "      <td>Recent</td>\n",
              "    </tr>\n",
              "  </tbody>\n",
              "</table>\n",
              "</div>"
            ],
            "text/plain": [
              "                                                Name  \\\n",
              "0                      10-Day Green Smoothie Cleanse   \n",
              "1                                  11/22/63: A Novel   \n",
              "2            12 Rules for Life: An Antidote to Chaos   \n",
              "3                             1984 (Signet Classics)   \n",
              "4  5,000 Awesome Facts (About Everything!) (Natio...   \n",
              "\n",
              "                     Author  User Rating  Reviews  Price  Year        Genre  \\\n",
              "0                  JJ Smith          4.7    17350      8  2016  Non Fiction   \n",
              "1              Stephen King          4.6     2052     22  2011      Fiction   \n",
              "2        Jordan B. Peterson          4.7    18979     15  2018  Non Fiction   \n",
              "3             George Orwell          4.7    21424      6  2017      Fiction   \n",
              "4  National Geographic Kids          4.8     7665     12  2019  Non Fiction   \n",
              "\n",
              "   is_expensive  high_rating  reviews_per_dollar year_category  \n",
              "0             0            0         2168.750000           Mid  \n",
              "1             1            0           93.272727           Old  \n",
              "2             0            0         1265.266667        Recent  \n",
              "3             0            0         3570.666667        Recent  \n",
              "4             0            1          638.750000        Recent  "
            ]
          },
          "execution_count": 32,
          "metadata": {},
          "output_type": "execute_result"
        }
      ],
      "source": [
        "df['year_category'] = pd.cut(df['Year'], bins=[2009, 2013, 2016, 2019], labels=['Old','Mid','Recent'])\n",
        "df.head()"
      ]
    },
    {
      "cell_type": "markdown",
      "metadata": {
        "id": "CK_N8eBRmv3p"
      },
      "source": [
        "Part 7 – SQL Simulation in Pandas"
      ]
    },
    {
      "cell_type": "code",
      "execution_count": 33,
      "metadata": {
        "colab": {
          "base_uri": "https://localhost:8080/",
          "height": 275
        },
        "id": "MkXkHEeWm5_1",
        "outputId": "9e3fd1d5-8701-459b-f2c5-e5e81dbd4d31"
      },
      "outputs": [
        {
          "data": {
            "text/html": [
              "<div>\n",
              "<style scoped>\n",
              "    .dataframe tbody tr th:only-of-type {\n",
              "        vertical-align: middle;\n",
              "    }\n",
              "\n",
              "    .dataframe tbody tr th {\n",
              "        vertical-align: top;\n",
              "    }\n",
              "\n",
              "    .dataframe thead th {\n",
              "        text-align: right;\n",
              "    }\n",
              "</style>\n",
              "<table border=\"1\" class=\"dataframe\">\n",
              "  <thead>\n",
              "    <tr style=\"text-align: right;\">\n",
              "      <th></th>\n",
              "      <th>Name</th>\n",
              "      <th>Author</th>\n",
              "      <th>User Rating</th>\n",
              "      <th>Reviews</th>\n",
              "      <th>Price</th>\n",
              "      <th>Year</th>\n",
              "      <th>Genre</th>\n",
              "      <th>is_expensive</th>\n",
              "      <th>high_rating</th>\n",
              "      <th>reviews_per_dollar</th>\n",
              "      <th>year_category</th>\n",
              "    </tr>\n",
              "  </thead>\n",
              "  <tbody>\n",
              "    <tr>\n",
              "      <th>0</th>\n",
              "      <td>10-Day Green Smoothie Cleanse</td>\n",
              "      <td>JJ Smith</td>\n",
              "      <td>4.7</td>\n",
              "      <td>17350</td>\n",
              "      <td>8</td>\n",
              "      <td>2016</td>\n",
              "      <td>Non Fiction</td>\n",
              "      <td>0</td>\n",
              "      <td>0</td>\n",
              "      <td>2168.750000</td>\n",
              "      <td>Mid</td>\n",
              "    </tr>\n",
              "    <tr>\n",
              "      <th>1</th>\n",
              "      <td>11/22/63: A Novel</td>\n",
              "      <td>Stephen King</td>\n",
              "      <td>4.6</td>\n",
              "      <td>2052</td>\n",
              "      <td>22</td>\n",
              "      <td>2011</td>\n",
              "      <td>Fiction</td>\n",
              "      <td>1</td>\n",
              "      <td>0</td>\n",
              "      <td>93.272727</td>\n",
              "      <td>Old</td>\n",
              "    </tr>\n",
              "    <tr>\n",
              "      <th>2</th>\n",
              "      <td>12 Rules for Life: An Antidote to Chaos</td>\n",
              "      <td>Jordan B. Peterson</td>\n",
              "      <td>4.7</td>\n",
              "      <td>18979</td>\n",
              "      <td>15</td>\n",
              "      <td>2018</td>\n",
              "      <td>Non Fiction</td>\n",
              "      <td>0</td>\n",
              "      <td>0</td>\n",
              "      <td>1265.266667</td>\n",
              "      <td>Recent</td>\n",
              "    </tr>\n",
              "    <tr>\n",
              "      <th>3</th>\n",
              "      <td>1984 (Signet Classics)</td>\n",
              "      <td>George Orwell</td>\n",
              "      <td>4.7</td>\n",
              "      <td>21424</td>\n",
              "      <td>6</td>\n",
              "      <td>2017</td>\n",
              "      <td>Fiction</td>\n",
              "      <td>0</td>\n",
              "      <td>0</td>\n",
              "      <td>3570.666667</td>\n",
              "      <td>Recent</td>\n",
              "    </tr>\n",
              "    <tr>\n",
              "      <th>4</th>\n",
              "      <td>5,000 Awesome Facts (About Everything!) (Natio...</td>\n",
              "      <td>National Geographic Kids</td>\n",
              "      <td>4.8</td>\n",
              "      <td>7665</td>\n",
              "      <td>12</td>\n",
              "      <td>2019</td>\n",
              "      <td>Non Fiction</td>\n",
              "      <td>0</td>\n",
              "      <td>1</td>\n",
              "      <td>638.750000</td>\n",
              "      <td>Recent</td>\n",
              "    </tr>\n",
              "  </tbody>\n",
              "</table>\n",
              "</div>"
            ],
            "text/plain": [
              "                                                Name  \\\n",
              "0                      10-Day Green Smoothie Cleanse   \n",
              "1                                  11/22/63: A Novel   \n",
              "2            12 Rules for Life: An Antidote to Chaos   \n",
              "3                             1984 (Signet Classics)   \n",
              "4  5,000 Awesome Facts (About Everything!) (Natio...   \n",
              "\n",
              "                     Author  User Rating  Reviews  Price  Year        Genre  \\\n",
              "0                  JJ Smith          4.7    17350      8  2016  Non Fiction   \n",
              "1              Stephen King          4.6     2052     22  2011      Fiction   \n",
              "2        Jordan B. Peterson          4.7    18979     15  2018  Non Fiction   \n",
              "3             George Orwell          4.7    21424      6  2017      Fiction   \n",
              "4  National Geographic Kids          4.8     7665     12  2019  Non Fiction   \n",
              "\n",
              "   is_expensive  high_rating  reviews_per_dollar year_category  \n",
              "0             0            0         2168.750000           Mid  \n",
              "1             1            0           93.272727           Old  \n",
              "2             0            0         1265.266667        Recent  \n",
              "3             0            0         3570.666667        Recent  \n",
              "4             0            1          638.750000        Recent  "
            ]
          },
          "execution_count": 33,
          "metadata": {},
          "output_type": "execute_result"
        }
      ],
      "source": [
        "selected_books=df[df['Price']>20&(df['User Rating']>=4.8)]\n",
        "selected_books.head()"
      ]
    },
    {
      "cell_type": "markdown",
      "metadata": {
        "id": "K7LaiYkznmHD"
      },
      "source": [
        "Select all books with Price > 20 and User Rating ≥ 4.8."
      ]
    },
    {
      "cell_type": "code",
      "execution_count": 34,
      "metadata": {
        "colab": {
          "base_uri": "https://localhost:8080/",
          "height": 206
        },
        "id": "Bz6jss_XnpSq",
        "outputId": "aa3902ad-9c10-44ee-ba81-daa0f14bcb54"
      },
      "outputs": [
        {
          "data": {
            "text/html": [
              "<div>\n",
              "<style scoped>\n",
              "    .dataframe tbody tr th:only-of-type {\n",
              "        vertical-align: middle;\n",
              "    }\n",
              "\n",
              "    .dataframe tbody tr th {\n",
              "        vertical-align: top;\n",
              "    }\n",
              "\n",
              "    .dataframe thead th {\n",
              "        text-align: right;\n",
              "    }\n",
              "</style>\n",
              "<table border=\"1\" class=\"dataframe\">\n",
              "  <thead>\n",
              "    <tr style=\"text-align: right;\">\n",
              "      <th></th>\n",
              "      <th>Name</th>\n",
              "      <th>Author</th>\n",
              "      <th>User Rating</th>\n",
              "      <th>Reviews</th>\n",
              "      <th>Price</th>\n",
              "      <th>Year</th>\n",
              "      <th>Genre</th>\n",
              "      <th>is_expensive</th>\n",
              "      <th>high_rating</th>\n",
              "      <th>reviews_per_dollar</th>\n",
              "      <th>year_category</th>\n",
              "    </tr>\n",
              "  </thead>\n",
              "  <tbody>\n",
              "    <tr>\n",
              "      <th>534</th>\n",
              "      <td>Where the Crawdads Sing</td>\n",
              "      <td>Delia Owens</td>\n",
              "      <td>4.8</td>\n",
              "      <td>87841</td>\n",
              "      <td>15</td>\n",
              "      <td>2019</td>\n",
              "      <td>Fiction</td>\n",
              "      <td>0</td>\n",
              "      <td>1</td>\n",
              "      <td>5856.066667</td>\n",
              "      <td>Recent</td>\n",
              "    </tr>\n",
              "    <tr>\n",
              "      <th>382</th>\n",
              "      <td>The Girl on the Train</td>\n",
              "      <td>Paula Hawkins</td>\n",
              "      <td>4.1</td>\n",
              "      <td>79446</td>\n",
              "      <td>18</td>\n",
              "      <td>2015</td>\n",
              "      <td>Fiction</td>\n",
              "      <td>0</td>\n",
              "      <td>0</td>\n",
              "      <td>4413.666667</td>\n",
              "      <td>Mid</td>\n",
              "    </tr>\n",
              "    <tr>\n",
              "      <th>383</th>\n",
              "      <td>The Girl on the Train</td>\n",
              "      <td>Paula Hawkins</td>\n",
              "      <td>4.1</td>\n",
              "      <td>79446</td>\n",
              "      <td>7</td>\n",
              "      <td>2016</td>\n",
              "      <td>Fiction</td>\n",
              "      <td>0</td>\n",
              "      <td>0</td>\n",
              "      <td>11349.428571</td>\n",
              "      <td>Mid</td>\n",
              "    </tr>\n",
              "    <tr>\n",
              "      <th>33</th>\n",
              "      <td>Becoming</td>\n",
              "      <td>Michelle Obama</td>\n",
              "      <td>4.8</td>\n",
              "      <td>61133</td>\n",
              "      <td>11</td>\n",
              "      <td>2019</td>\n",
              "      <td>Non Fiction</td>\n",
              "      <td>0</td>\n",
              "      <td>1</td>\n",
              "      <td>5557.545455</td>\n",
              "      <td>Recent</td>\n",
              "    </tr>\n",
              "    <tr>\n",
              "      <th>32</th>\n",
              "      <td>Becoming</td>\n",
              "      <td>Michelle Obama</td>\n",
              "      <td>4.8</td>\n",
              "      <td>61133</td>\n",
              "      <td>11</td>\n",
              "      <td>2018</td>\n",
              "      <td>Non Fiction</td>\n",
              "      <td>0</td>\n",
              "      <td>1</td>\n",
              "      <td>5557.545455</td>\n",
              "      <td>Recent</td>\n",
              "    </tr>\n",
              "  </tbody>\n",
              "</table>\n",
              "</div>"
            ],
            "text/plain": [
              "                        Name          Author  User Rating  Reviews  Price  \\\n",
              "534  Where the Crawdads Sing     Delia Owens          4.8    87841     15   \n",
              "382    The Girl on the Train   Paula Hawkins          4.1    79446     18   \n",
              "383    The Girl on the Train   Paula Hawkins          4.1    79446      7   \n",
              "33                  Becoming  Michelle Obama          4.8    61133     11   \n",
              "32                  Becoming  Michelle Obama          4.8    61133     11   \n",
              "\n",
              "     Year        Genre  is_expensive  high_rating  reviews_per_dollar  \\\n",
              "534  2019      Fiction             0            1         5856.066667   \n",
              "382  2015      Fiction             0            0         4413.666667   \n",
              "383  2016      Fiction             0            0        11349.428571   \n",
              "33   2019  Non Fiction             0            1         5557.545455   \n",
              "32   2018  Non Fiction             0            1         5557.545455   \n",
              "\n",
              "    year_category  \n",
              "534        Recent  \n",
              "382           Mid  \n",
              "383           Mid  \n",
              "33         Recent  \n",
              "32         Recent  "
            ]
          },
          "execution_count": 34,
          "metadata": {},
          "output_type": "execute_result"
        }
      ],
      "source": [
        "sorted_books=df.sort_values(by='Reviews',ascending=False)\n",
        "sorted_books.head()"
      ]
    },
    {
      "cell_type": "markdown",
      "metadata": {
        "id": "XJuzxEMhoDU3"
      },
      "source": [
        "Group by Genre and calculate average User Rating."
      ]
    },
    {
      "cell_type": "code",
      "execution_count": 35,
      "metadata": {
        "colab": {
          "base_uri": "https://localhost:8080/",
          "height": 178
        },
        "id": "NQiei7BboIFU",
        "outputId": "24dec38d-5dd8-4fa8-b795-37f97c823b40"
      },
      "outputs": [
        {
          "data": {
            "text/plain": [
              "Genre\n",
              "Fiction        4.648333\n",
              "Non Fiction    4.595161\n",
              "Name: User Rating, dtype: float64"
            ]
          },
          "execution_count": 35,
          "metadata": {},
          "output_type": "execute_result"
        }
      ],
      "source": [
        "group_by=df.groupby('Genre')['User Rating'].mean()\n",
        "group_by.head()"
      ]
    },
    {
      "cell_type": "markdown",
      "metadata": {
        "id": "mVx9qFx4oeUw"
      },
      "source": [
        "Get top 5 authors by number of books."
      ]
    },
    {
      "cell_type": "code",
      "execution_count": 36,
      "metadata": {
        "colab": {
          "base_uri": "https://localhost:8080/",
          "height": 272
        },
        "id": "a2T7joN6oj7X",
        "outputId": "e1cad0e4-6cb1-420b-e0cc-1a971958d48c"
      },
      "outputs": [
        {
          "data": {
            "text/plain": [
              "Author\n",
              "Jeff Kinney                           12\n",
              "Suzanne Collins                       11\n",
              "Gary Chapman                          11\n",
              "Rick Riordan                          11\n",
              "American Psychological Association    10\n",
              "Name: count, dtype: int64"
            ]
          },
          "execution_count": 36,
          "metadata": {},
          "output_type": "execute_result"
        }
      ],
      "source": [
        "group_by=df['Author'].value_counts()\n",
        "group_by.head(5)"
      ]
    },
    {
      "cell_type": "markdown",
      "metadata": {
        "id": "dwIZ82eLpUl-"
      },
      "source": [
        "Count books with Reviews > 10,000."
      ]
    },
    {
      "cell_type": "code",
      "execution_count": 37,
      "metadata": {
        "colab": {
          "base_uri": "https://localhost:8080/"
        },
        "id": "dZe9srospWy4",
        "outputId": "78784634-3dc8-44bd-b0e2-f2b1717499fe"
      },
      "outputs": [
        {
          "name": "stdout",
          "output_type": "stream",
          "text": [
            "225\n"
          ]
        }
      ],
      "source": [
        "count_books=df[df['Reviews']>10000]['Reviews'].count()\n",
        "print(count_books)"
      ]
    },
    {
      "cell_type": "markdown",
      "metadata": {
        "id": "Jd0ebBrPqx1i"
      },
      "source": [
        "Part 8 – Insights"
      ]
    },
    {
      "cell_type": "markdown",
      "metadata": {
        "id": "G2EP8Yn7q18y"
      },
      "source": [
        "Do Fiction books have higher ratings than Non Fiction books?"
      ]
    },
    {
      "cell_type": "code",
      "execution_count": 38,
      "metadata": {
        "colab": {
          "base_uri": "https://localhost:8080/"
        },
        "id": "xuI9uWIqq0fD",
        "outputId": "fd04ee60-1ceb-49ae-8f3a-90da2d1ea03a"
      },
      "outputs": [
        {
          "name": "stdout",
          "output_type": "stream",
          "text": [
            "Genre\n",
            "Fiction        4.648333\n",
            "Non Fiction    4.595161\n",
            "Name: User Rating, dtype: float64\n"
          ]
        }
      ],
      "source": [
        "average_rating=df.groupby('Genre')['User Rating'].mean()\n",
        "print(average_rating)"
      ]
    },
    {
      "cell_type": "markdown",
      "metadata": {
        "id": "nfMRaVMr-ILK"
      },
      "source": [
        "Are expensive books always highly rated?"
      ]
    },
    {
      "cell_type": "code",
      "execution_count": 39,
      "metadata": {
        "colab": {
          "base_uri": "https://localhost:8080/"
        },
        "id": "iAKLUYmK-YB0",
        "outputId": "bb6d27d0-a080-4d8f-b2e3-f36187cdb6b1"
      },
      "outputs": [
        {
          "name": "stdout",
          "output_type": "stream",
          "text": [
            "Correlation between Price and Rating: -0.1330862872808798\n"
          ]
        }
      ],
      "source": [
        "correlation = df['Price'].corr(df['User Rating'])\n",
        "print(\"Correlation between Price and Rating:\", correlation)"
      ]
    },
    {
      "cell_type": "code",
      "execution_count": 40,
      "metadata": {
        "colab": {
          "base_uri": "https://localhost:8080/"
        },
        "id": "gL5VW8zP_kIl",
        "outputId": "deec5e5e-3613-45cb-d28c-8b69dd504e7c"
      },
      "outputs": [
        {
          "name": "stdout",
          "output_type": "stream",
          "text": [
            "The year with the most bestsellers is 2016 with 50 books.\n"
          ]
        }
      ],
      "source": [
        "year_counts=df['Year'].value_counts()\n",
        "most_bestsellers_year=year_counts.idxmax()\n",
        "most_bestsellers_count=year_counts.max()\n",
        "print(f\"The year with the most bestsellers is {most_bestsellers_year} with {most_bestsellers_count} books.\")\n"
      ]
    },
    {
      "cell_type": "code",
      "execution_count": 41,
      "metadata": {
        "colab": {
          "base_uri": "https://localhost:8080/"
        },
        "id": "Xtsw1Y5AAAtH",
        "outputId": "afac8ae6-f6bd-411e-e8f6-5697b2ef0786"
      },
      "outputs": [
        {
          "name": "stdout",
          "output_type": "stream",
          "text": [
            "5,000 Awesome Facts (About Everything!) (Nation...\n",
            "                                Alexander Hamilton\n",
            "Barefoot Contessa Foolproof: Recipes You Can Tr...\n",
            "                                          Becoming\n",
            "                                          Becoming\n",
            "Being Mortal: Medicine and What Matters in the End\n",
            "          Brown Bear, Brown Bear, What Do You See?\n",
            "          Brown Bear, Brown Bear, What Do You See?\n",
            "        Cabin Fever (Diary of a Wimpy Kid, Book 6)\n",
            " Can't Hurt Me: Master Your Mind and Defy the Odds\n",
            "Creative Haven Creative Cats Coloring Book (Adu...\n",
            "Creative Haven Owls Coloring Book (Adult Coloring)\n",
            "Daring Greatly: How the Courage to Be Vulnerabl...\n",
            "                    Dear Zoo: A Lift-the-Flap Book\n",
            "                    Dear Zoo: A Lift-the-Flap Book\n",
            "                    Dear Zoo: A Lift-the-Flap Book\n",
            "                    Dear Zoo: A Lift-the-Flap Book\n",
            "           Diary of a Wimpy Kid: Hard Luck, Book 8\n",
            "     Diary of a Wimpy Kid: The Last Straw (Book 3)\n",
            "               Diary of a Wimpy Kid: The Long Haul\n",
            "Dog Days (Diary of a Wimpy Kid, Book 4) (Volume 4)\n",
            "Dog Man and Cat Kid: From the Creator of Captai...\n",
            "Dog Man: A Tale of Two Kitties: From the Creato...\n",
            "Dog Man: Brawl of the Wild: From the Creator of...\n",
            "Dog Man: Brawl of the Wild: From the Creator of...\n",
            "Dog Man: Fetch-22: From the Creator of Captain ...\n",
            "Dog Man: For Whom the Ball Rolls: From the Crea...\n",
            "Dog Man: Lord of the Fleas: From the Creator of...\n",
            "            Double Down (Diary of a Wimpy Kid #11)\n",
            "                              Giraffes Can't Dance\n",
            "                              Giraffes Can't Dance\n",
            "                              Giraffes Can't Dance\n",
            "                              Giraffes Can't Dance\n",
            "                              Giraffes Can't Dance\n",
            "                              Go the F**k to Sleep\n",
            "                                    Goodnight Moon\n",
            "                                    Goodnight Moon\n",
            "                                    Goodnight Moon\n",
            "Goodnight, Goodnight Construction Site (Hardcov...\n",
            "Goodnight, Goodnight Construction Site (Hardcov...\n",
            "                                              Guts\n",
            "                          Hamilton: The Revolution\n",
            "Happy, Happy, Happy: My Life and Legacy as the ...\n",
            "Harry Potter and the Chamber of Secrets: The Il...\n",
            "Harry Potter and the Goblet of Fire: The Illust...\n",
            "Harry Potter and the Prisoner of Azkaban: The I...\n",
            "Harry Potter and the Sorcerer's Stone: The Illu...\n",
            "        Harry Potter Paperback Box Set (Books 1-7)\n",
            "                 Have a Little Faith: A True Story\n",
            "Homebody: A Guide to Creating Spaces You Never ...\n",
            "                                Humans of New York\n",
            "                                Humans of New York\n",
            "                      Humans of New York : Stories\n",
            "I Am Confident, Brave & Beautiful: A Coloring B...\n",
            "                      If Animals Kissed Good Night\n",
            "                      If Animals Kissed Good Night\n",
            "It's Not Supposed to Be This Way: Finding Unexp...\n",
            "Jesus Calling: Enjoying Peace in His Presence (...\n",
            "Jesus Calling: Enjoying Peace in His Presence (...\n",
            "Jesus Calling: Enjoying Peace in His Presence (...\n",
            "Jesus Calling: Enjoying Peace in His Presence (...\n",
            "Jesus Calling: Enjoying Peace in His Presence (...\n",
            "Jesus Calling: Enjoying Peace in His Presence (...\n",
            "Killing the Rising Sun: How America Vanquished ...\n",
            "Kitchen Confidential Updated Edition: Adventure...\n",
            "Last Week Tonight with John Oliver Presents A D...\n",
            "     Liberty and Tyranny: A Conservative Manifesto\n",
            "                                 Little Blue Truck\n",
            "                                  Love You Forever\n",
            "                                  Love You Forever\n",
            "Magnolia Table: A Collection of Recipes for Gat...\n",
            "       Mastering the Art of French Cooking, Vol. 2\n",
            "National Geographic Kids Why?: Over 1,111 Answe...\n",
            "National Geographic Little Kids First Big Book ...\n",
            "                       Obama: An Intimate Portrait\n",
            "                         Oh, the Places You'll Go!\n",
            "                         Oh, the Places You'll Go!\n",
            "                         Oh, the Places You'll Go!\n",
            "                         Oh, the Places You'll Go!\n",
            "                         Oh, the Places You'll Go!\n",
            "                         Oh, the Places You'll Go!\n",
            "                         Oh, the Places You'll Go!\n",
            "                         Oh, the Places You'll Go!\n",
            "             Old School (Diary of a Wimpy Kid #10)\n",
            "Percy Jackson and the Olympians Paperback Boxed...\n",
            "            Player's Handbook (Dungeons & Dragons)\n",
            "            Player's Handbook (Dungeons & Dragons)\n",
            "            Player's Handbook (Dungeons & Dragons)\n",
            "Puppy Birthday to You! (Paw Patrol) (Little Gol...\n",
            "Rush Revere and the Brave Pilgrims: Time-Travel...\n",
            "Rush Revere and the First Patriots: Time-Travel...\n",
            "Salt, Fat, Acid, Heat: Mastering the Elements o...\n",
            "Salt, Fat, Acid, Heat: Mastering the Elements o...\n",
            "School Zone - Big Preschool Workbook - Ages 4 a...\n",
            "School Zone - Big Preschool Workbook - Ages 4 a...\n",
            "Ship of Fools: How a Selfish Ruling Class Is Br...\n",
            "            Strange Planet (Strange Planet Series)\n",
            "The 5 Love Languages: The Secret to Love that L...\n",
            "The 5 Love Languages: The Secret to Love that L...\n",
            "The 5 Love Languages: The Secret to Love that L...\n",
            "The 5 Love Languages: The Secret to Love that L...\n",
            "The 5 Love Languages: The Secret to Love that L...\n",
            "                                The 5000 Year Leap\n",
            "  The Blood of Olympus (The Heroes of Olympus (5))\n",
            "The Body Keeps the Score: Brain, Mind, and Body...\n",
            "                         The Book with No Pictures\n",
            "                         The Book with No Pictures\n",
            "The Boys in the Boat: Nine Americans and Their ...\n",
            "The Boys in the Boat: Nine Americans and Their ...\n",
            "             The Constitution of the United States\n",
            "                          The Day the Crayons Quit\n",
            "                          The Day the Crayons Quit\n",
            "                          The Day the Crayons Quit\n",
            "                                       The Getaway\n",
            "                             The Going-To-Bed Book\n",
            "                             The Going-To-Bed Book\n",
            "                                   The Hate U Give\n",
            "                                          The Help\n",
            "                                          The Help\n",
            "                                          The Help\n",
            "                                          The Help\n",
            "    The House of Hades (Heroes of Olympus, Book 4)\n",
            "            The Hunger Games Trilogy Boxed Set (1)\n",
            "            The Hunger Games Trilogy Boxed Set (1)\n",
            "The Last Olympian (Percy Jackson and the Olympi...\n",
            "The Last Olympian (Percy Jackson and the Olympi...\n",
            "              The Legend of Zelda: Hyrule Historia\n",
            "         The Lost Hero (Heroes of Olympus, Book 1)\n",
            "                                     The Love Dare\n",
            "                                The Magnolia Story\n",
            "    The Mark of Athena (Heroes of Olympus, Book 3)\n",
            "       The Meltdown (Diary of a Wimpy Kid Book 13)\n",
            "                          The Nightingale: A Novel\n",
            "                          The Nightingale: A Novel\n",
            "The Pioneer Woman Cooks: A Year of Holidays: 14...\n",
            "The Pioneer Woman Cooks: Dinnertime - Comfort C...\n",
            "    The Pioneer Woman Cooks: Food from My Frontier\n",
            "                                The Pout-Pout Fish\n",
            "                                The Pout-Pout Fish\n",
            "The Serpent's Shadow (The Kane Chronicles, Book 3)\n",
            "    The Son of Neptune (Heroes of Olympus, Book 2)\n",
            "     The Ugly Truth (Diary of a Wimpy Kid, Book 5)\n",
            "                       The Very Hungry Caterpillar\n",
            "                       The Very Hungry Caterpillar\n",
            "                       The Very Hungry Caterpillar\n",
            "                       The Very Hungry Caterpillar\n",
            "                       The Very Hungry Caterpillar\n",
            "                       The Very Hungry Caterpillar\n",
            "                       The Very Hungry Caterpillar\n",
            "                  The Wonderful Things You Will Be\n",
            "                  The Wonderful Things You Will Be\n",
            "                  The Wonderful Things You Will Be\n",
            "                  The Wonderful Things You Will Be\n",
            "                                  The Wonky Donkey\n",
            "                                  The Wonky Donkey\n",
            "                             To Kill a Mockingbird\n",
            "                             To Kill a Mockingbird\n",
            "                             To Kill a Mockingbird\n",
            "                             To Kill a Mockingbird\n",
            "                             To Kill a Mockingbird\n",
            " Towers of Midnight (Wheel of Time, Book Thirteen)\n",
            "Unbroken: A World War II Story of Survival, Res...\n",
            "Unbroken: A World War II Story of Survival, Res...\n",
            "Unbroken: A World War II Story of Survival, Res...\n",
            "Unbroken: A World War II Story of Survival, Res...\n",
            "Unbroken: A World War II Story of Survival, Res...\n",
            "                            Unfreedom of the Press\n",
            "Unicorn Coloring Book: For Kids Ages 4-8 (US Ed...\n",
            "                                          Watchmen\n",
            "What Should Danny Do? (The Power to Choose Series)\n",
            "                           When Breath Becomes Air\n",
            "                           Where the Crawdads Sing\n",
            "                         Where the Wild Things Are\n",
            "                                            Wonder\n",
            "                                            Wonder\n",
            "                                            Wonder\n",
            "                                            Wonder\n",
            "                                            Wonder\n",
            "      Wrecking Ball (Diary of a Wimpy Kid Book 14)\n"
          ]
        }
      ],
      "source": [
        "top_books = df[df['User Rating'] >= df['User Rating'].quantile(0.75)]['Name']\n",
        "print(top_books.to_string(index=False))"
      ]
    },
    {
      "cell_type": "code",
      "execution_count": 42,
      "metadata": {
        "colab": {
          "base_uri": "https://localhost:8080/"
        },
        "id": "YybNuF0HBhZO",
        "outputId": "9e87c43e-9123-498b-9e09-b4b0014ee3f0"
      },
      "outputs": [
        {
          "name": "stdout",
          "output_type": "stream",
          "text": [
            "Genre\n",
            "Non Fiction    56.363636\n",
            "Fiction        43.636364\n",
            "Name: count, dtype: float64\n",
            "%\n"
          ]
        }
      ],
      "source": [
        "category_percent = (df['Genre'].value_counts() / len(df)) * 100\n",
        "print(category_percent)\n",
        "print(\"%\")"
      ]
    }
  ],
  "metadata": {
    "colab": {
      "provenance": []
    },
    "kernelspec": {
      "display_name": "Python 3",
      "name": "python3"
    },
    "language_info": {
      "codemirror_mode": {
        "name": "ipython",
        "version": 3
      },
      "file_extension": ".py",
      "mimetype": "text/x-python",
      "name": "python",
      "nbconvert_exporter": "python",
      "pygments_lexer": "ipython3",
      "version": "3.13.7"
    }
  },
  "nbformat": 4,
  "nbformat_minor": 0
}
